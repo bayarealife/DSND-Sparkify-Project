{
 "cells": [
  {
   "cell_type": "markdown",
   "metadata": {},
   "source": [
    "# Sparkify Project Workspace\n",
    "This workspace contains a tiny subset (128MB) of the full dataset available (12GB). Feel free to use this workspace to build your project, or to explore a smaller subset with Spark before deploying your cluster on the cloud. Instructions for setting up your Spark cluster is included in the last lesson of the Extracurricular Spark Course content.\n",
    "\n",
    "You can follow the steps below to guide your data analysis and model building portion of this project."
   ]
  },
  {
   "cell_type": "code",
   "execution_count": 5,
   "metadata": {},
   "outputs": [
    {
     "name": "stdout",
     "output_type": "stream",
     "text": [
      "Requirement already satisfied: pyspark in c:\\users\\kdeside1\\appdata\\local\\continuum\\anaconda3\\lib\\site-packages (3.1.2)\n",
      "Requirement already satisfied: py4j==0.10.9 in c:\\users\\kdeside1\\appdata\\local\\continuum\\anaconda3\\lib\\site-packages (from pyspark) (0.10.9)\n"
     ]
    }
   ],
   "source": [
    "!pip --proxy http://webgateway.itm.mcafee.com:9090 install pyspark"
   ]
  },
  {
   "cell_type": "code",
   "execution_count": null,
   "metadata": {},
   "outputs": [],
   "source": [
    "# !pip freeze"
   ]
  },
  {
   "cell_type": "code",
   "execution_count": 6,
   "metadata": {},
   "outputs": [],
   "source": [
    "# import libraries\n",
    "from pyspark.sql import SparkSession, Row\n",
    "import pyspark.sql.functions as F\n",
    "from pyspark.sql.functions import col, isnan, count, when, countDistinct, concat, max, min, sum\n",
    "from pyspark.sql.window import Window \n",
    "from pyspark.ml.feature import VectorAssembler, StandardScaler, Normalizer, OneHotEncoder\n",
    "from pyspark.ml import Pipeline\n",
    "from pyspark.ml.classification import LogisticRegression, DecisionTreeClassifier, RandomForestClassifier, GBTClassifier, LinearSVC\n",
    "from pyspark.ml.tuning import ParamGridBuilder, CrossValidator\n",
    "from pyspark.ml.evaluation import BinaryClassificationEvaluator\n",
    "import matplotlib.pyplot as plt\n",
    "import pandas as pd\n",
    "import numpy as np\n",
    "import seaborn as sns"
   ]
  },
  {
   "cell_type": "code",
   "execution_count": 7,
   "metadata": {},
   "outputs": [],
   "source": [
    "# create a Spark session\n",
    "spark = SparkSession.builder \\\n",
    "    .master(\"local\") \\\n",
    "    .appName(\"Creating Features\") \\\n",
    "    .getOrCreate()"
   ]
  },
  {
   "cell_type": "markdown",
   "metadata": {},
   "source": [
    "# Load and Clean Dataset\n",
    "In this workspace, the mini-dataset file is `mini_sparkify_event_data.json`. Load and clean the dataset, checking for invalid or missing data - for example, records without userids or sessionids. "
   ]
  },
  {
   "cell_type": "code",
   "execution_count": 8,
   "metadata": {},
   "outputs": [
    {
     "data": {
      "text/plain": [
       "DataFrame[artist: string, auth: string, firstName: string, gender: string, itemInSession: bigint, lastName: string, length: double, level: string, location: string, method: string, page: string, registration: bigint, sessionId: bigint, song: string, status: bigint, ts: bigint, userAgent: string, userId: string]"
      ]
     },
     "execution_count": 8,
     "metadata": {},
     "output_type": "execute_result"
    }
   ],
   "source": [
    "## Load the data into dataframe and persist the data\n",
    "data = 'mini_sparkify_event_data.json'\n",
    "df = spark.read.json(data)\n",
    "df.persist()"
   ]
  },
  {
   "cell_type": "code",
   "execution_count": 9,
   "metadata": {},
   "outputs": [
    {
     "name": "stdout",
     "output_type": "stream",
     "text": [
      "root\n",
      " |-- artist: string (nullable = true)\n",
      " |-- auth: string (nullable = true)\n",
      " |-- firstName: string (nullable = true)\n",
      " |-- gender: string (nullable = true)\n",
      " |-- itemInSession: long (nullable = true)\n",
      " |-- lastName: string (nullable = true)\n",
      " |-- length: double (nullable = true)\n",
      " |-- level: string (nullable = true)\n",
      " |-- location: string (nullable = true)\n",
      " |-- method: string (nullable = true)\n",
      " |-- page: string (nullable = true)\n",
      " |-- registration: long (nullable = true)\n",
      " |-- sessionId: long (nullable = true)\n",
      " |-- song: string (nullable = true)\n",
      " |-- status: long (nullable = true)\n",
      " |-- ts: long (nullable = true)\n",
      " |-- userAgent: string (nullable = true)\n",
      " |-- userId: string (nullable = true)\n",
      "\n"
     ]
    }
   ],
   "source": [
    "## print the schema\n",
    "df.printSchema()"
   ]
  },
  {
   "cell_type": "code",
   "execution_count": 10,
   "metadata": {},
   "outputs": [
    {
     "data": {
      "text/plain": [
       "(286500, 18)"
      ]
     },
     "execution_count": 10,
     "metadata": {},
     "output_type": "execute_result"
    }
   ],
   "source": [
    "## dataframe shape\n",
    "df.count(), len(df.columns)"
   ]
  },
  {
   "cell_type": "code",
   "execution_count": 11,
   "metadata": {},
   "outputs": [
    {
     "name": "stdout",
     "output_type": "stream",
     "text": [
      "+----------------+---------+---------+------+-------------+--------+---------+-----+--------------------+------+--------+-------------+---------+--------------------+------+-------------+--------------------+------+\n",
      "|          artist|     auth|firstName|gender|itemInSession|lastName|   length|level|            location|method|    page| registration|sessionId|                song|status|           ts|           userAgent|userId|\n",
      "+----------------+---------+---------+------+-------------+--------+---------+-----+--------------------+------+--------+-------------+---------+--------------------+------+-------------+--------------------+------+\n",
      "|  Martha Tilston|Logged In|    Colin|     M|           50| Freeman|277.89016| paid|     Bakersfield, CA|   PUT|NextSong|1538173362000|       29|           Rockpools|   200|1538352117000|Mozilla/5.0 (Wind...|    30|\n",
      "|Five Iron Frenzy|Logged In|    Micah|     M|           79|    Long|236.09424| free|Boston-Cambridge-...|   PUT|NextSong|1538331630000|        8|              Canada|   200|1538352180000|\"Mozilla/5.0 (Win...|     9|\n",
      "|    Adam Lambert|Logged In|    Colin|     M|           51| Freeman| 282.8273| paid|     Bakersfield, CA|   PUT|NextSong|1538173362000|       29|   Time For Miracles|   200|1538352394000|Mozilla/5.0 (Wind...|    30|\n",
      "|          Enigma|Logged In|    Micah|     M|           80|    Long|262.71302| free|Boston-Cambridge-...|   PUT|NextSong|1538331630000|        8|Knocking On Forbi...|   200|1538352416000|\"Mozilla/5.0 (Win...|     9|\n",
      "|       Daft Punk|Logged In|    Colin|     M|           52| Freeman|223.60771| paid|     Bakersfield, CA|   PUT|NextSong|1538173362000|       29|Harder Better Fas...|   200|1538352676000|Mozilla/5.0 (Wind...|    30|\n",
      "+----------------+---------+---------+------+-------------+--------+---------+-----+--------------------+------+--------+-------------+---------+--------------------+------+-------------+--------------------+------+\n",
      "only showing top 5 rows\n",
      "\n"
     ]
    }
   ],
   "source": [
    "df.show(5)"
   ]
  },
  {
   "cell_type": "code",
   "execution_count": 12,
   "metadata": {},
   "outputs": [
    {
     "name": "stdout",
     "output_type": "stream",
     "text": [
      "+------+----+---------+------+-------------+--------+------+-----+--------+------+----+------------+---------+----+------+---+---------+------+\n",
      "|artist|auth|firstName|gender|itemInSession|lastName|length|level|location|method|page|registration|sessionId|song|status| ts|userAgent|userId|\n",
      "+------+----+---------+------+-------------+--------+------+-----+--------+------+----+------------+---------+----+------+---+---------+------+\n",
      "|     0|   0|        0|     0|            0|       0|     0|    0|       0|     0|   0|           0|        0|   0|     0|  0|        0|     0|\n",
      "+------+----+---------+------+-------------+--------+------+-----+--------+------+----+------------+---------+----+------+---+---------+------+\n",
      "\n"
     ]
    }
   ],
   "source": [
    "## count of null in each column)\n",
    "df.select([count(when(isnan(c), c)).alias(c) for c in df.columns]).show()"
   ]
  },
  {
   "cell_type": "code",
   "execution_count": 13,
   "metadata": {},
   "outputs": [],
   "source": [
    "## delete rows with null userID or sessionId\n",
    "df = df.na.drop(subset=[\"userId\",\"sessionId\"])\n",
    "df = df.filter(df['userId']!='')"
   ]
  },
  {
   "cell_type": "code",
   "execution_count": 14,
   "metadata": {},
   "outputs": [
    {
     "data": {
      "text/plain": [
       "(278154, 18)"
      ]
     },
     "execution_count": 14,
     "metadata": {},
     "output_type": "execute_result"
    }
   ],
   "source": [
    "## check dataframe shape\n",
    "df.count(), len(df.columns)"
   ]
  },
  {
   "cell_type": "code",
   "execution_count": 15,
   "metadata": {},
   "outputs": [
    {
     "data": {
      "text/plain": [
       "225"
      ]
     },
     "execution_count": 15,
     "metadata": {},
     "output_type": "execute_result"
    }
   ],
   "source": [
    "## List of unique users and the number \n",
    "num_users = df.groupBy('userId').count().agg({\"count\":\"count\"})\n",
    "num_users = num_users.collect()[0][0]\n",
    "num_users"
   ]
  },
  {
   "cell_type": "code",
   "execution_count": 16,
   "metadata": {},
   "outputs": [
    {
     "data": {
      "text/plain": [
       "52"
      ]
     },
     "execution_count": 16,
     "metadata": {},
     "output_type": "execute_result"
    }
   ],
   "source": [
    "## List of unique churned users and the number \n",
    "churn_users = [x.userId for x in df.filter(F.col(\"page\").contains('Cancellation Confirmation')).select('userId').sort('userId').distinct().collect()]\n",
    "num_churn = len(churn_users)\n",
    "num_churn"
   ]
  },
  {
   "cell_type": "code",
   "execution_count": 17,
   "metadata": {},
   "outputs": [
    {
     "data": {
      "text/plain": [
       "173"
      ]
     },
     "execution_count": 17,
     "metadata": {},
     "output_type": "execute_result"
    }
   ],
   "source": [
    "## List of unique users who did not churn and the number \n",
    "num_non_churn = num_users - num_churn\n",
    "num_non_churn"
   ]
  },
  {
   "cell_type": "code",
   "execution_count": 18,
   "metadata": {},
   "outputs": [
    {
     "name": "stdout",
     "output_type": "stream",
     "text": [
      "23% of the users churn\n"
     ]
    }
   ],
   "source": [
    "print('{}% of the users churn'.format(round(num_churn/num_users*100)))"
   ]
  },
  {
   "cell_type": "markdown",
   "metadata": {},
   "source": [
    "# Exploratory Data Analysis\n",
    "When you're working with the full dataset, perform EDA by loading a small subset of the data and doing basic manipulations within Spark. In this workspace, you are already provided a small subset of data you can explore.\n",
    "\n",
    "### Define Churn\n",
    "\n",
    "Once you've done some preliminary analysis, create a column `Churn` to use as the label for your model. I suggest using the `Cancellation Confirmation` events to define your churn, which happen for both paid and free users. As a bonus task, you can also look into the `Downgrade` events.\n",
    "\n",
    "### Explore Data\n",
    "Once you've defined churn, perform some exploratory data analysis to observe the behavior for users who stayed vs users who churned. You can start by exploring aggregates on these two groups of users, observing how much of a specific action they experienced per a certain time unit or number of songs played."
   ]
  },
  {
   "cell_type": "code",
   "execution_count": 19,
   "metadata": {
    "scrolled": false
   },
   "outputs": [
    {
     "data": {
      "text/plain": [
       "[Row(page='Cancel'),\n",
       " Row(page='Submit Downgrade'),\n",
       " Row(page='Thumbs Down'),\n",
       " Row(page='Home'),\n",
       " Row(page='Downgrade'),\n",
       " Row(page='Roll Advert'),\n",
       " Row(page='Logout'),\n",
       " Row(page='Save Settings'),\n",
       " Row(page='Cancellation Confirmation'),\n",
       " Row(page='About'),\n",
       " Row(page='Settings'),\n",
       " Row(page='Add to Playlist'),\n",
       " Row(page='Add Friend'),\n",
       " Row(page='NextSong'),\n",
       " Row(page='Thumbs Up'),\n",
       " Row(page='Help'),\n",
       " Row(page='Upgrade'),\n",
       " Row(page='Error'),\n",
       " Row(page='Submit Upgrade')]"
      ]
     },
     "execution_count": 19,
     "metadata": {},
     "output_type": "execute_result"
    }
   ],
   "source": [
    "## unique value of page column\n",
    "df.select('page').distinct().collect()"
   ]
  },
  {
   "cell_type": "code",
   "execution_count": 20,
   "metadata": {},
   "outputs": [],
   "source": [
    "##  Add label = 1 for churn, else = 0\n",
    "df = df.withColumn(\n",
    "    'label',\n",
    "    F.when((F.col(\"userId\").isin(churn_users)), 1)\n",
    "    .otherwise(0)\n",
    "    )"
   ]
  },
  {
   "cell_type": "code",
   "execution_count": 21,
   "metadata": {},
   "outputs": [
    {
     "name": "stdout",
     "output_type": "stream",
     "text": [
      "+----------------+---------+---------+------+-------------+--------+---------+-----+--------------------+------+--------+-------------+---------+--------------------+------+-------------+--------------------+------+-----+\n",
      "|          artist|     auth|firstName|gender|itemInSession|lastName|   length|level|            location|method|    page| registration|sessionId|                song|status|           ts|           userAgent|userId|label|\n",
      "+----------------+---------+---------+------+-------------+--------+---------+-----+--------------------+------+--------+-------------+---------+--------------------+------+-------------+--------------------+------+-----+\n",
      "|  Martha Tilston|Logged In|    Colin|     M|           50| Freeman|277.89016| paid|     Bakersfield, CA|   PUT|NextSong|1538173362000|       29|           Rockpools|   200|1538352117000|Mozilla/5.0 (Wind...|    30|    0|\n",
      "|Five Iron Frenzy|Logged In|    Micah|     M|           79|    Long|236.09424| free|Boston-Cambridge-...|   PUT|NextSong|1538331630000|        8|              Canada|   200|1538352180000|\"Mozilla/5.0 (Win...|     9|    0|\n",
      "|    Adam Lambert|Logged In|    Colin|     M|           51| Freeman| 282.8273| paid|     Bakersfield, CA|   PUT|NextSong|1538173362000|       29|   Time For Miracles|   200|1538352394000|Mozilla/5.0 (Wind...|    30|    0|\n",
      "|          Enigma|Logged In|    Micah|     M|           80|    Long|262.71302| free|Boston-Cambridge-...|   PUT|NextSong|1538331630000|        8|Knocking On Forbi...|   200|1538352416000|\"Mozilla/5.0 (Win...|     9|    0|\n",
      "|       Daft Punk|Logged In|    Colin|     M|           52| Freeman|223.60771| paid|     Bakersfield, CA|   PUT|NextSong|1538173362000|       29|Harder Better Fas...|   200|1538352676000|Mozilla/5.0 (Wind...|    30|    0|\n",
      "+----------------+---------+---------+------+-------------+--------+---------+-----+--------------------+------+--------+-------------+---------+--------------------+------+-------------+--------------------+------+-----+\n",
      "only showing top 5 rows\n",
      "\n"
     ]
    }
   ],
   "source": [
    "df.show(5)"
   ]
  },
  {
   "cell_type": "code",
   "execution_count": 22,
   "metadata": {
    "scrolled": true
   },
   "outputs": [
    {
     "name": "stdout",
     "output_type": "stream",
     "text": [
      "+-------------+---------+---------+------+-------------+--------+---------+-----+--------------------+------+---------+-------------+---------+--------------------+------+-------------+--------------------+------+-----+\n",
      "|       artist|     auth|firstName|gender|itemInSession|lastName|   length|level|            location|method|     page| registration|sessionId|                song|status|           ts|           userAgent|userId|label|\n",
      "+-------------+---------+---------+------+-------------+--------+---------+-----+--------------------+------+---------+-------------+---------+--------------------+------+-------------+--------------------+------+-----+\n",
      "|        Modjo|Logged In|    Alexi|     F|            0|  Warren|250.93179| paid|Spokane-Spokane V...|   PUT| NextSong|1532482662000|       53|         What I Mean|   200|1538353930000|Mozilla/5.0 (Wind...|    54|    1|\n",
      "|Edwyn Collins|Logged In|    Alexi|     F|            1|  Warren|  216.842| paid|Spokane-Spokane V...|   PUT| NextSong|1532482662000|       53|You'll Never Know...|   200|1538354180000|Mozilla/5.0 (Wind...|    54|    1|\n",
      "|     Coldplay|Logged In|    Alexi|     F|            2|  Warren|343.32689| paid|Spokane-Spokane V...|   PUT| NextSong|1532482662000|       53|             For You|   200|1538354396000|Mozilla/5.0 (Wind...|    54|    1|\n",
      "|          Kix|Logged In|    Alexi|     F|            3|  Warren|246.25587| paid|Spokane-Spokane V...|   PUT| NextSong|1532482662000|       53|          Girl Money|   200|1538354739000|Mozilla/5.0 (Wind...|    54|    1|\n",
      "|         null|Logged In|    Alexi|     F|            4|  Warren|     null| paid|Spokane-Spokane V...|   GET|Downgrade|1532482662000|       53|                null|   200|1538354749000|Mozilla/5.0 (Wind...|    54|    1|\n",
      "+-------------+---------+---------+------+-------------+--------+---------+-----+--------------------+------+---------+-------------+---------+--------------------+------+-------------+--------------------+------+-----+\n",
      "only showing top 5 rows\n",
      "\n"
     ]
    }
   ],
   "source": [
    "## Verify the data\n",
    "df.filter(df.label==1).show(5)"
   ]
  },
  {
   "cell_type": "code",
   "execution_count": 23,
   "metadata": {},
   "outputs": [
    {
     "name": "stdout",
     "output_type": "stream",
     "text": [
      "+------+-----+------------+\n",
      "|userId|label|count(label)|\n",
      "+------+-----+------------+\n",
      "|    10|    0|         795|\n",
      "|   100|    0|        3214|\n",
      "|100001|    1|         187|\n",
      "|100002|    0|         218|\n",
      "|100003|    1|          78|\n",
      "|100004|    0|        1245|\n",
      "|100005|    1|         216|\n",
      "|100006|    1|          44|\n",
      "|100007|    1|         520|\n",
      "|100008|    0|         940|\n",
      "|100009|    1|         671|\n",
      "|100010|    0|         381|\n",
      "|100011|    1|          23|\n",
      "|100012|    1|         600|\n",
      "|100013|    1|        1392|\n",
      "|100014|    1|         310|\n",
      "|100015|    1|        1050|\n",
      "|100016|    0|         638|\n",
      "|100017|    1|          75|\n",
      "|100018|    0|        1288|\n",
      "+------+-----+------------+\n",
      "only showing top 20 rows\n",
      "\n"
     ]
    }
   ],
   "source": [
    "# Verify the data further\n",
    "df.groupby(['userId', 'label']).agg(count('label')).sort('userId').show()"
   ]
  },
  {
   "cell_type": "code",
   "execution_count": 24,
   "metadata": {},
   "outputs": [
    {
     "name": "stdout",
     "output_type": "stream",
     "text": [
      "44864\n",
      "233290\n"
     ]
    }
   ],
   "source": [
    "## Count of rows for each churned and not-churned users\n",
    "df_churn = df.filter(col('label')==1)\n",
    "df_non_churn = df.filter(col('label')==0)\n",
    "\n",
    "print(df_churn.count())\n",
    "print(df_non_churn.count())"
   ]
  },
  {
   "cell_type": "code",
   "execution_count": 25,
   "metadata": {},
   "outputs": [
    {
     "name": "stdout",
     "output_type": "stream",
     "text": [
      "+--------------------+-----+\n",
      "|                page|count|\n",
      "+--------------------+-----+\n",
      "|              Cancel|   52|\n",
      "|    Submit Downgrade|    9|\n",
      "|         Thumbs Down|  496|\n",
      "|                Home| 1672|\n",
      "|           Downgrade|  337|\n",
      "|         Roll Advert|  967|\n",
      "|              Logout|  553|\n",
      "|       Save Settings|   58|\n",
      "|Cancellation Conf...|   52|\n",
      "|               About|   56|\n",
      "|            Settings|  270|\n",
      "|     Add to Playlist| 1038|\n",
      "|          Add Friend|  636|\n",
      "|            NextSong|36394|\n",
      "|           Thumbs Up| 1859|\n",
      "|                Help|  239|\n",
      "|             Upgrade|  112|\n",
      "|               Error|   32|\n",
      "|      Submit Upgrade|   32|\n",
      "+--------------------+-----+\n",
      "\n"
     ]
    }
   ],
   "source": [
    "## Count of page for canceled users\n",
    "df_churn.groupby(['page']).count().show()"
   ]
  },
  {
   "cell_type": "code",
   "execution_count": 26,
   "metadata": {},
   "outputs": [
    {
     "name": "stdout",
     "output_type": "stream",
     "text": [
      "+--------------------+-------------------+\n",
      "|                page| (count(page) / 52)|\n",
      "+--------------------+-------------------+\n",
      "|              Cancel|                1.0|\n",
      "|    Submit Downgrade|0.17307692307692307|\n",
      "|         Thumbs Down|  9.538461538461538|\n",
      "|                Home|  32.15384615384615|\n",
      "|           Downgrade|  6.480769230769231|\n",
      "|         Roll Advert| 18.596153846153847|\n",
      "|              Logout| 10.634615384615385|\n",
      "|       Save Settings| 1.1153846153846154|\n",
      "|Cancellation Conf...|                1.0|\n",
      "|               About| 1.0769230769230769|\n",
      "|            Settings| 5.1923076923076925|\n",
      "|     Add to Playlist|  19.96153846153846|\n",
      "|          Add Friend|  12.23076923076923|\n",
      "|            NextSong|  699.8846153846154|\n",
      "|           Thumbs Up|              35.75|\n",
      "|                Help|  4.596153846153846|\n",
      "|             Upgrade| 2.1538461538461537|\n",
      "|               Error| 0.6153846153846154|\n",
      "|      Submit Upgrade| 0.6153846153846154|\n",
      "+--------------------+-------------------+\n",
      "\n"
     ]
    }
   ],
   "source": [
    "## Average times the churned users visited each page\n",
    "df_churn.groupby(['page']).agg(F.count('page') / num_churn).show()"
   ]
  },
  {
   "cell_type": "code",
   "execution_count": 27,
   "metadata": {},
   "outputs": [
    {
     "name": "stdout",
     "output_type": "stream",
     "text": [
      "                           Not-Churned     Churned\n",
      "Submit Downgrade              0.312139    0.173077\n",
      "Thumbs Down                  11.849711    9.538462\n",
      "Home                         48.612717   32.153846\n",
      "Downgrade                     9.930636    6.480769\n",
      "Roll Advert                  17.144509   18.596154\n",
      "Logout                       15.450867   10.634615\n",
      "Save Settings                 1.456647    1.115385\n",
      "About                         2.537572    1.076923\n",
      "Settings                      7.190751    5.192308\n",
      "Add to Playlist              31.722543   19.961538\n",
      "Add Friend                   21.046243   12.230769\n",
      "NextSong                   1108.173410  699.884615\n",
      "Thumbs Up                    61.803468   35.750000\n",
      "Help                          7.023121    4.596154\n",
      "Upgrade                       2.236994    2.153846\n",
      "Error                         1.271676    0.615385\n",
      "Submit Upgrade                0.734104    0.615385\n",
      "Cancel                        0.000000    1.000000\n",
      "Cancellation Confirmation     0.000000    1.000000\n"
     ]
    },
    {
     "data": {
      "text/plain": [
       "<matplotlib.axes._subplots.AxesSubplot at 0x1dc26099400>"
      ]
     },
     "execution_count": 27,
     "metadata": {},
     "output_type": "execute_result"
    },
    {
     "data": {
      "image/png": "[encoded data removed]",
      "text/plain": [
       "<Figure size 720x576 with 1 Axes>"
      ]
     },
     "metadata": {
      "needs_background": "light"
     },
     "output_type": "display_data"
    }
   ],
   "source": [
    "## Avg. page activities for all other users\n",
    "non_churn_page_avg = df_non_churn.groupby(['page']).agg(F.count('page') / num_non_churn)\n",
    "\n",
    "## Avg. page activities for canceled users\n",
    "churn_page_avg = df_churn.groupby(['page']).agg(F.count('page') / num_churn)\n",
    "\n",
    "## Merge two dataframes to plot a grouped bar graph\n",
    "graph_df = pd.concat([non_churn_page_avg.toPandas().set_index('page'), churn_page_avg.toPandas().set_index('page')], axis=1, sort=False).fillna(0)\n",
    "graph_df.columns = ['Not-Churned','Churned']\n",
    "\n",
    "## Plot a bar graph to show the churn and not-churned users page activities\n",
    "print(graph_df)\n",
    "graph_df.plot.barh(figsize=(10,8), colormap='summer')"
   ]
  },
  {
   "cell_type": "code",
   "execution_count": 28,
   "metadata": {},
   "outputs": [
    {
     "name": "stdout",
     "output_type": "stream",
     "text": [
      "+------+-------------------+\n",
      "|gender|count(count(label))|\n",
      "+------+-------------------+\n",
      "|     F|                 84|\n",
      "|     M|                 89|\n",
      "+------+-------------------+\n",
      "\n"
     ]
    }
   ],
   "source": [
    "## preview the female and male counts for users not churned\n",
    "df_non_churn.groupby([\"gender\",\"userId\"]).agg({\"label\":\"count\"}).groupby(\"gender\").agg({\"count(label)\":\"count\"}).show()"
   ]
  },
  {
   "cell_type": "code",
   "execution_count": 29,
   "metadata": {},
   "outputs": [
    {
     "name": "stdout",
     "output_type": "stream",
     "text": [
      "+------+---------------------------+\n",
      "|gender|(count(count(label)) / 173)|\n",
      "+------+---------------------------+\n",
      "|     F|        0.48554913294797686|\n",
      "|     M|         0.5144508670520231|\n",
      "+------+---------------------------+\n",
      "\n"
     ]
    }
   ],
   "source": [
    "## Preview the female/male ratio for users not churned\n",
    "df_non_churn.groupby([\"gender\",\"userId\"]).agg({\"label\":\"count\"}).groupby(\"gender\").agg(F.count(\"count(label)\") / num_non_churn).show()"
   ]
  },
  {
   "cell_type": "code",
   "execution_count": 30,
   "metadata": {},
   "outputs": [
    {
     "name": "stdout",
     "output_type": "stream",
     "text": [
      "+------+--------------------------+\n",
      "|gender|(count(count(label)) / 52)|\n",
      "+------+--------------------------+\n",
      "|     F|       0.38461538461538464|\n",
      "|     M|        0.6153846153846154|\n",
      "+------+--------------------------+\n",
      "\n"
     ]
    }
   ],
   "source": [
    "## Preview the female/male ratio for churn users \n",
    "df_churn.groupby([\"gender\",\"userId\"]).agg({\"label\":\"count\"}).groupby(\"gender\").agg(F.count(\"count(label)\") / num_churn).show()"
   ]
  },
  {
   "cell_type": "code",
   "execution_count": 31,
   "metadata": {},
   "outputs": [
    {
     "data": {
      "text/plain": [
       "<matplotlib.axes._subplots.AxesSubplot at 0x1dc26a4ca20>"
      ]
     },
     "execution_count": 31,
     "metadata": {},
     "output_type": "execute_result"
    },
    {
     "data": {
      "image/png": "[encoded data removed]",
      "text/plain": [
       "<Figure size 576x288 with 1 Axes>"
      ]
     },
     "metadata": {
      "needs_background": "light"
     },
     "output_type": "display_data"
    }
   ],
   "source": [
    "## Percentage of Male and Female in each Churn / not-Churn group\n",
    "df_gender_pct = df_non_churn.groupby([\"gender\",\"userId\"]).agg({\"label\":\"count\"}).groupby(\"gender\").agg(F.count(\"count(label)\") / num_non_churn)     \n",
    "df_gender_churn_pct = df_churn.groupby([\"gender\",\"userId\"]).agg({\"label\":\"count\"}).groupby(\"gender\").agg(F.count(\"count(label)\") / num_churn)\n",
    "graph_gender_pct_df = pd.concat([df_gender_pct.toPandas().set_index('gender'), df_gender_churn_pct.toPandas().set_index('gender')], axis=1, sort=False).fillna(0)\n",
    "graph_gender_pct_df.columns = ['Not-Churned','Churned']\n",
    "## Plot a bar graph for churn rate by gender\n",
    "graph_gender_pct_df.plot.bar(figsize=(8,4), rot=0, colormap='summer')"
   ]
  },
  {
   "cell_type": "code",
   "execution_count": 32,
   "metadata": {},
   "outputs": [
    {
     "data": {
      "text/plain": [
       "<matplotlib.axes._subplots.AxesSubplot at 0x1dc268ce240>"
      ]
     },
     "execution_count": 32,
     "metadata": {},
     "output_type": "execute_result"
    },
    {
     "data": {
      "image/png": "[encoded data removed]",
      "text/plain": [
       "<Figure size 576x288 with 1 Axes>"
      ]
     },
     "metadata": {
      "needs_background": "light"
     },
     "output_type": "display_data"
    }
   ],
   "source": [
    "## paid vs free.  Users who upgraded from free to paid will be counted as paid\n",
    "df_level = df_non_churn.groupby([\"level\",\"userId\"]).agg({\"label\":\"count\"}).sort(col(\"userId\").asc(),col(\"level\").desc()).dropDuplicates(subset = ['userId']).groupby(\"level\").agg(F.count(\"count(label)\") / num_non_churn)\n",
    "df_level_churn = df_churn.groupby([\"level\",\"userId\"]).agg({\"label\":\"count\"}).sort(col(\"userId\").asc(),col(\"level\").desc()).dropDuplicates(subset = ['userId']).groupby(\"level\").agg(F.count(\"count(label)\") / num_churn)\n",
    "graph_level_df = pd.concat([df_level.toPandas().set_index('level'), df_level_churn.toPandas().set_index('level')], axis=1, sort=False).fillna(0)\n",
    "graph_level_df.columns = ['Not-Churned','Churned']\n",
    "## Plot a bar graph for churn rate by level (paid/free)\n",
    "graph_level_df.plot.bar(figsize=(8,4), rot=0, colormap='summer')"
   ]
  },
  {
   "cell_type": "code",
   "execution_count": 33,
   "metadata": {},
   "outputs": [
    {
     "name": "stdout",
     "output_type": "stream",
     "text": [
      "+------+---------+-----------+\n",
      "|userId|sessionId|count(page)|\n",
      "+------+---------+-----------+\n",
      "|   101|      635|        855|\n",
      "|   122|      691|          9|\n",
      "|    29|     1030|         19|\n",
      "|    53|     1306|        182|\n",
      "|100013|       13|         52|\n",
      "|200021|      181|        207|\n",
      "|   101|      496|        423|\n",
      "|    54|     1308|         20|\n",
      "|    70|     1385|         16|\n",
      "|100009|      126|         75|\n",
      "|300001|      366|         30|\n",
      "|    12|      379|        240|\n",
      "|     3|      374|         48|\n",
      "|100023|      109|         14|\n",
      "|100014|       98|         93|\n",
      "|    17|      590|         13|\n",
      "|    51|      737|        456|\n",
      "|    12|     1072|         68|\n",
      "|100021|       21|         14|\n",
      "|    87|      300|         50|\n",
      "+------+---------+-----------+\n",
      "only showing top 20 rows\n",
      "\n"
     ]
    }
   ],
   "source": [
    "## Preview the count of page activities per session ID for each user\n",
    "df_churn.groupBy('userId','sessionId').agg({\"page\":\"count\"}).show()"
   ]
  },
  {
   "cell_type": "code",
   "execution_count": 34,
   "metadata": {},
   "outputs": [
    {
     "data": {
      "text/plain": [
       "[Text(0, 0, 'Avg. Count of Pages Per Session')]"
      ]
     },
     "execution_count": 34,
     "metadata": {},
     "output_type": "execute_result"
    },
    {
     "data": {
      "image/png": "[encoded data removed]",
      "text/plain": [
       "<Figure size 576x288 with 1 Axes>"
      ]
     },
     "metadata": {
      "needs_background": "light"
     },
     "output_type": "display_data"
    }
   ],
   "source": [
    "## Average number of activities (pages) in each session for Churn / Not-Churned group\n",
    "df_avg_session = df.groupBy('label','sessionId').agg({\"page\":\"count\"}).groupby('label').agg(F.sum(\"count(page)\") / F.count('sessionId')).toPandas().pivot_table(values='(sum(count(page)) / count(sessionId))', columns='label', aggfunc='first')\n",
    "df_avg_session.columns = ['Not-Churned','Churned']\n",
    "\n",
    "## Plot the average count of page activities for churn and not-churned users\n",
    "ax = df_avg_session.plot.bar(figsize=(8,4), rot=0, colormap='summer')\n",
    "ax.set_xticklabels(['Avg. Count of Pages Per Session'])"
   ]
  },
  {
   "cell_type": "code",
   "execution_count": 100,
   "metadata": {},
   "outputs": [
    {
     "data": {
      "text/html": [
       "<div>\n",
       "<style scoped>\n",
       "    .dataframe tbody tr th:only-of-type {\n",
       "        vertical-align: middle;\n",
       "    }\n",
       "\n",
       "    .dataframe tbody tr th {\n",
       "        vertical-align: top;\n",
       "    }\n",
       "\n",
       "    .dataframe thead th {\n",
       "        text-align: right;\n",
       "    }\n",
       "</style>\n",
       "<table border=\"1\" class=\"dataframe\">\n",
       "  <thead>\n",
       "    <tr style=\"text-align: right;\">\n",
       "      <th></th>\n",
       "      <th>Not-Churned</th>\n",
       "      <th>Churned</th>\n",
       "    </tr>\n",
       "  </thead>\n",
       "  <tbody>\n",
       "    <tr>\n",
       "      <th>(sum(count(page)) / count(sessionId))</th>\n",
       "      <td>110.563981</td>\n",
       "      <td>95.863248</td>\n",
       "    </tr>\n",
       "  </tbody>\n",
       "</table>\n",
       "</div>"
      ],
      "text/plain": [
       "                                       Not-Churned    Churned\n",
       "(sum(count(page)) / count(sessionId))   110.563981  95.863248"
      ]
     },
     "execution_count": 100,
     "metadata": {},
     "output_type": "execute_result"
    }
   ],
   "source": [
    "df_avg_session"
   ]
  },
  {
   "cell_type": "code",
   "execution_count": 96,
   "metadata": {},
   "outputs": [
    {
     "name": "stdout",
     "output_type": "stream",
     "text": [
      "+-----+--------------------------+\n",
      "|label|(sum(count(artist)) / 225)|\n",
      "+-----+--------------------------+\n",
      "|    1|         161.7511111111111|\n",
      "|    0|         852.0622222222222|\n",
      "+-----+--------------------------+\n",
      "\n"
     ]
    }
   ],
   "source": [
    "df.groupBy('label','artist').agg({\"artist\":\"count\"}).groupby('label').agg(F.sum(\"count(artist)\") / num_users).show()"
   ]
  },
  {
   "cell_type": "code",
   "execution_count": 117,
   "metadata": {},
   "outputs": [
    {
     "data": {
      "text/plain": [
       "[Text(0, 0, 'Avg. No. of Artists')]"
      ]
     },
     "execution_count": 117,
     "metadata": {},
     "output_type": "execute_result"
    },
    {
     "data": {
      "image/png": "[encoded data removed]",
      "text/plain": [
       "<Figure size 576x288 with 1 Axes>"
      ]
     },
     "metadata": {
      "needs_background": "light"
     },
     "output_type": "display_data"
    }
   ],
   "source": [
    "## Average number of artists for Churn / Not-Churned group\n",
    "df_avg_artist = df.groupBy('label','artist').agg({\"artist\":\"count\"}).groupby('label').agg(F.sum(\"count(artist)\") / num_users).toPandas().pivot_table(values='(sum(count(artist)) / 225)', columns='label', aggfunc='first')\n",
    "df_avg_session.columns = ['Not-Churned','Churned']\n",
    "# df_avg_artist.columns = ['Not-Churned','Churned']\n",
    "\n",
    "## Plot the average number of artists for churn and not-churned users\n",
    "ax = df_avg_artist.plot.bar(figsize=(8,4), rot=0, colormap='summer')\n",
    "ax.set_xticklabels(['Avg. No. of Artists'])"
   ]
  },
  {
   "cell_type": "code",
   "execution_count": null,
   "metadata": {},
   "outputs": [],
   "source": [
    "## Average number of artists for Churn / Not-Churned group\n",
    "df_avg_artist = df.groupBy('label','song').agg({\"song\":\"count\"}).groupby('label').agg(F.count(\"count(song)\") / num_users).toPandas().pivot_table(values='(sum(count(song)) / 225)', columns='label', aggfunc='first')\n",
    "df_avg_session.columns = ['Not-Churned','Churned']\n",
    "# df_avg_artist.columns = ['Not-Churned','Churned']\n",
    "\n",
    "## Plot the average number of artists for churn and not-churned users\n",
    "ax = df_avg_artist.plot.bar(figsize=(8,4), rot=0, colormap='summer')\n",
    "ax.set_xticklabels(['Avg. No. of Songs'])"
   ]
  },
  {
   "cell_type": "markdown",
   "metadata": {},
   "source": [
    "# Feature Engineering\n",
    "Once you've familiarized yourself with the data, build out the features you find promising to train your model on. To work with the full dataset, you can follow the following steps.\n",
    "- Write a script to extract the necessary features from the smaller subset of data\n",
    "- Ensure that your script is scalable, using the best practices discussed in Lesson 3\n",
    "- Try your script on the full data set, debugging your script if necessary\n",
    "\n",
    "If you are working in the classroom workspace, you can just extract features based on the small subset of data contained here. Be sure to transfer over this work to the larger dataset when you work on your Spark cluster."
   ]
  },
  {
   "cell_type": "code",
   "execution_count": 35,
   "metadata": {},
   "outputs": [
    {
     "name": "stdout",
     "output_type": "stream",
     "text": [
      "+----------------+---------+---------+------+-------------+--------+---------+-----+--------------------+------+--------+-------------+---------+-----------------+------+-------------+--------------------+------+-----+\n",
      "|          artist|     auth|firstName|gender|itemInSession|lastName|   length|level|            location|method|    page| registration|sessionId|             song|status|           ts|           userAgent|userId|label|\n",
      "+----------------+---------+---------+------+-------------+--------+---------+-----+--------------------+------+--------+-------------+---------+-----------------+------+-------------+--------------------+------+-----+\n",
      "|  Martha Tilston|Logged In|    Colin|     M|           50| Freeman|277.89016| paid|     Bakersfield, CA|   PUT|NextSong|1538173362000|       29|        Rockpools|   200|1538352117000|Mozilla/5.0 (Wind...|    30|    0|\n",
      "|Five Iron Frenzy|Logged In|    Micah|     M|           79|    Long|236.09424| free|Boston-Cambridge-...|   PUT|NextSong|1538331630000|        8|           Canada|   200|1538352180000|\"Mozilla/5.0 (Win...|     9|    0|\n",
      "|    Adam Lambert|Logged In|    Colin|     M|           51| Freeman| 282.8273| paid|     Bakersfield, CA|   PUT|NextSong|1538173362000|       29|Time For Miracles|   200|1538352394000|Mozilla/5.0 (Wind...|    30|    0|\n",
      "+----------------+---------+---------+------+-------------+--------+---------+-----+--------------------+------+--------+-------------+---------+-----------------+------+-------------+--------------------+------+-----+\n",
      "only showing top 3 rows\n",
      "\n"
     ]
    }
   ],
   "source": [
    "df.show(3)"
   ]
  },
  {
   "cell_type": "code",
   "execution_count": 36,
   "metadata": {},
   "outputs": [
    {
     "name": "stdout",
     "output_type": "stream",
     "text": [
      "+------+---------------+-----------+\n",
      "|userId|           page|count(page)|\n",
      "+------+---------------+-----------+\n",
      "|    10|      Downgrade|          7|\n",
      "|    10|           Help|          1|\n",
      "|    10|       Settings|          7|\n",
      "|    10|    Roll Advert|          1|\n",
      "|    10|    Thumbs Down|          4|\n",
      "|    10|Add to Playlist|          9|\n",
      "|    10|      Thumbs Up|         37|\n",
      "|    10|       NextSong|        673|\n",
      "|    10|  Save Settings|          1|\n",
      "|    10|          About|          2|\n",
      "|    10|           Home|         30|\n",
      "|    10|         Logout|         11|\n",
      "|    10|     Add Friend|         12|\n",
      "|   100|        Upgrade|          1|\n",
      "|   100|     Add Friend|         49|\n",
      "|   100|    Roll Advert|         25|\n",
      "|   100|    Thumbs Down|         27|\n",
      "|   100|           Help|         18|\n",
      "|   100| Submit Upgrade|          1|\n",
      "|   100|Add to Playlist|         61|\n",
      "+------+---------------+-----------+\n",
      "only showing top 20 rows\n",
      "\n"
     ]
    }
   ],
   "source": [
    "## The visit count for each page for each user\n",
    "df.groupby('userId','page').agg(count('page')).sort('userId').show()    #.pivot('page').agg(count('page')).show()"
   ]
  },
  {
   "cell_type": "code",
   "execution_count": 111,
   "metadata": {},
   "outputs": [
    {
     "name": "stdout",
     "output_type": "stream",
     "text": [
      "+------+--------------------+\n",
      "|userId|count(count(artist))|\n",
      "+------+--------------------+\n",
      "|    10|                 566|\n",
      "|   100|                1706|\n",
      "|100001|                 126|\n",
      "|100002|                 185|\n",
      "|100003|                  51|\n",
      "|100004|                 734|\n",
      "|100005|                 150|\n",
      "|100006|                  27|\n",
      "|100007|                 358|\n",
      "|100008|                 624|\n",
      "|100009|                 443|\n",
      "|100010|                 253|\n",
      "|100011|                  12|\n",
      "|100012|                 398|\n",
      "|100013|                 827|\n",
      "|100014|                 234|\n",
      "|100015|                 628|\n",
      "|100016|                 432|\n",
      "|100017|                  52|\n",
      "|100018|                 781|\n",
      "+------+--------------------+\n",
      "only showing top 20 rows\n",
      "\n"
     ]
    }
   ],
   "source": [
    "# df.groupBy('userId','artist').agg({\"artist\":\"count\"}).groupby('userId').pivot('artist').agg(F.sum(\"count(artist)\")).sort('userId').fillna(0).show()\n",
    "df.groupBy('userId','artist').agg({\"artist\":\"count\"}).groupby('userId').agg(F.count(\"count(artist)\")).sort('userId').fillna(0).show()"
   ]
  },
  {
   "cell_type": "code",
   "execution_count": 124,
   "metadata": {},
   "outputs": [
    {
     "data": {
      "text/plain": [
       "225"
      ]
     },
     "execution_count": 124,
     "metadata": {},
     "output_type": "execute_result"
    }
   ],
   "source": [
    "## Pivot the previous dataframe by the page columne\n",
    "feature_df = df.groupby('userId','page').agg(count('page')).groupby('userId').pivot('page').agg(F.sum(\"count(page)\")).sort('userId').fillna(0)\n",
    "\n",
    "## Convert gender info to binary and add to feature_df\n",
    "temp_df = df.groupby(['userId', 'gender']).agg(count('gender')).sort('userId').select('userId','gender')\n",
    "temp_df = temp_df.withColumn(\"gender_bin\", F.when((F.col(\"gender\") == \"M\"), 0).otherwise(1)).select('userId','gender_bin')\n",
    "feature_df = feature_df.join(temp_df, ['userId'])\n",
    "\n",
    "## Convert level info to binary and add to feature_df\n",
    "temp_df = df.groupby([\"level\",\"userId\"]).agg({\"label\":\"count\"}).sort(col(\"userId\").asc(),col(\"level\").desc()).dropDuplicates(subset = ['userId']).select('userId','level')  #.groupby(\"level\").agg(F.count(\"count(label)\") / num_users)\n",
    "temp_df = temp_df.withColumn(\"level_bin\", F.when((F.col(\"level\") == \"paid\"), 1).otherwise(0)).select('userId','level_bin')\n",
    "feature_df = feature_df.join(temp_df, ['userId'])\n",
    "\n",
    "## Add Avg count of pages per session\n",
    "temp_df = df.groupBy('userId','sessionId').agg({\"page\":\"count\"}).groupby('userId').agg((F.sum(\"count(page)\") / F.count('sessionId')).alias('avg_page_per_session')).sort('userId')\n",
    "feature_df = feature_df.join(temp_df, ['userId'])\n",
    "\n",
    "## Add number of artists per user\n",
    "temp_df = df.groupBy('userId','artist').agg({\"artist\":\"count\"}).groupby('userId').agg(F.sum(\"count(artist)\").alias('artist')).sort('userId').fillna(0)\n",
    "feature_df = feature_df.join(temp_df, ['userId'])\n",
    "\n",
    "## Lastly, add label\n",
    "temp_df = df.groupby(['userId', 'label']).agg(count('label')).sort('userId').select('userId','label')\n",
    "feature_df = feature_df.join(temp_df, ['userId'])\n",
    "\n",
    "## Delete Cancel pages \n",
    "feature_df = feature_df.drop('Cancel','Cancellation Confirmation')\n",
    "\n",
    "## Verify the number of unique users stayed the same after the table manipulation\n",
    "feature_df.count()"
   ]
  },
  {
   "cell_type": "code",
   "execution_count": 125,
   "metadata": {},
   "outputs": [
    {
     "name": "stdout",
     "output_type": "stream",
     "text": [
      "+------+-----+----------+---------------+---------+-----+----+----+------+--------+-----------+-------------+--------+----------------+--------------+-----------+---------+-------+----------+---------+--------------------+------+-----+\n",
      "|userId|About|Add Friend|Add to Playlist|Downgrade|Error|Help|Home|Logout|NextSong|Roll Advert|Save Settings|Settings|Submit Downgrade|Submit Upgrade|Thumbs Down|Thumbs Up|Upgrade|gender_bin|level_bin|avg_page_per_session|artist|label|\n",
      "+------+-----+----------+---------------+---------+-----+----+----+------+--------+-----------+-------------+--------+----------------+--------------+-----------+---------+-------+----------+---------+--------------------+------+-----+\n",
      "|200002|    3|         4|              8|        5|    0|   2|  20|     5|     387|          7|            0|       3|               0|             1|          6|       21|      2|         0|        1|                79.0|   387|    0|\n",
      "|100010|    1|         4|              7|        0|    0|   2|  11|     5|     275|         52|            0|       0|               0|             0|          5|       17|      2|         1|        0|   54.42857142857143|   275|    0|\n",
      "|   125|    0|         0|              0|        0|    0|   0|   0|     0|       8|          1|            0|       0|               0|             0|          0|        0|      0|         0|        0|                11.0|     8|    1|\n",
      "|    51|    2|        28|             52|       23|    1|  12|  75|    24|    2111|          0|            1|      12|               0|             0|         21|      100|      0|         0|        1|               246.4|  2111|    1|\n",
      "|   124|    7|        74|            118|       41|    6|  23| 176|    59|    4079|          4|            6|      20|               0|             0|         41|      171|      0|         1|        1|   166.3793103448276|  4079|    0|\n",
      "+------+-----+----------+---------------+---------+-----+----+----+------+--------+-----------+-------------+--------+----------------+--------------+-----------+---------+-------+----------+---------+--------------------+------+-----+\n",
      "only showing top 5 rows\n",
      "\n"
     ]
    }
   ],
   "source": [
    "## Verify the data still looks good\n",
    "feature_df.show(5)"
   ]
  },
  {
   "cell_type": "code",
   "execution_count": 126,
   "metadata": {},
   "outputs": [
    {
     "name": "stdout",
     "output_type": "stream",
     "text": [
      "root\n",
      " |-- userId: string (nullable = true)\n",
      " |-- About: long (nullable = true)\n",
      " |-- Add Friend: long (nullable = true)\n",
      " |-- Add to Playlist: long (nullable = true)\n",
      " |-- Downgrade: long (nullable = true)\n",
      " |-- Error: long (nullable = true)\n",
      " |-- Help: long (nullable = true)\n",
      " |-- Home: long (nullable = true)\n",
      " |-- Logout: long (nullable = true)\n",
      " |-- NextSong: long (nullable = true)\n",
      " |-- Roll Advert: long (nullable = true)\n",
      " |-- Save Settings: long (nullable = true)\n",
      " |-- Settings: long (nullable = true)\n",
      " |-- Submit Downgrade: long (nullable = true)\n",
      " |-- Submit Upgrade: long (nullable = true)\n",
      " |-- Thumbs Down: long (nullable = true)\n",
      " |-- Thumbs Up: long (nullable = true)\n",
      " |-- Upgrade: long (nullable = true)\n",
      " |-- gender_bin: integer (nullable = false)\n",
      " |-- level_bin: integer (nullable = false)\n",
      " |-- avg_page_per_session: double (nullable = true)\n",
      " |-- artist: long (nullable = true)\n",
      " |-- label: integer (nullable = false)\n",
      "\n"
     ]
    }
   ],
   "source": [
    "## Verify the schema still looks good\n",
    "feature_df.printSchema()"
   ]
  },
  {
   "cell_type": "code",
   "execution_count": 127,
   "metadata": {},
   "outputs": [],
   "source": [
    "page_features = ['About', 'Add Friend', 'Add to Playlist', 'Help',\\\n",
    "                 'Roll Advert', 'Save Settings', 'Settings', 'Submit Downgrade', 'Submit Upgrade', 'Thumbs Down',\\\n",
    "                 'Thumbs Up', 'Downgrade', 'Upgrade', 'NextSong', 'Home', 'Logout', 'artist', 'avg_page_per_session']   ## 'Error'\n",
    "binary_features = ['gender_bin', 'level_bin']"
   ]
  },
  {
   "cell_type": "code",
   "execution_count": 128,
   "metadata": {},
   "outputs": [
    {
     "data": {
      "text/plain": [
       "<matplotlib.axes._subplots.AxesSubplot at 0x1dc27478b70>"
      ]
     },
     "execution_count": 128,
     "metadata": {},
     "output_type": "execute_result"
    },
    {
     "data": {
      "image/png": "[encoded data removed]",
      "text/plain": [
       "<Figure size 648x504 with 2 Axes>"
      ]
     },
     "metadata": {
      "needs_background": "light"
     },
     "output_type": "display_data"
    }
   ],
   "source": [
    "## Check the correlation between page features\n",
    "corr = feature_df[page_features].toPandas().corr()\n",
    "## Display a heatmap to show the correlation\n",
    "fig, ax = plt.subplots(figsize=(9,7)) \n",
    "sns.heatmap(corr, xticklabels=corr.columns, yticklabels=corr.columns,ax=ax)"
   ]
  },
  {
   "cell_type": "code",
   "execution_count": 152,
   "metadata": {},
   "outputs": [],
   "source": [
    "feature_df.toPandas().to_csv('feature_df.csv', encoding='utf-8')"
   ]
  },
  {
   "cell_type": "markdown",
   "metadata": {},
   "source": [
    "# Modeling\n",
    "Split the full dataset into train, test, and validation sets. Test out several of the machine learning methods you learned. Evaluate the accuracy of the various models, tuning parameters as necessary. Determine your winning model based on test accuracy and report results on the validation set. Since the churned users are a fairly small subset, I suggest using F1 score as the metric to optimize."
   ]
  },
  {
   "cell_type": "code",
   "execution_count": 129,
   "metadata": {},
   "outputs": [],
   "source": [
    "## Create transformer and assembler\n",
    "assembler1 = VectorAssembler(inputCols=page_features, outputCol=\"vec1\")\n",
    "scaler = StandardScaler(inputCol=\"vec1\", outputCol=\"scaledFeatures\")\n",
    "assembler2 = VectorAssembler(inputCols=[\"gender_bin\",\"level_bin\",\"scaledFeatures\"], outputCol=\"features\")"
   ]
  },
  {
   "cell_type": "code",
   "execution_count": 130,
   "metadata": {},
   "outputs": [
    {
     "name": "stdout",
     "output_type": "stream",
     "text": [
      "root\n",
      " |-- userId: string (nullable = true)\n",
      " |-- About: long (nullable = true)\n",
      " |-- Add Friend: long (nullable = true)\n",
      " |-- Add to Playlist: long (nullable = true)\n",
      " |-- Downgrade: long (nullable = true)\n",
      " |-- Error: long (nullable = true)\n",
      " |-- Help: long (nullable = true)\n",
      " |-- Home: long (nullable = true)\n",
      " |-- Logout: long (nullable = true)\n",
      " |-- NextSong: long (nullable = true)\n",
      " |-- Roll Advert: long (nullable = true)\n",
      " |-- Save Settings: long (nullable = true)\n",
      " |-- Settings: long (nullable = true)\n",
      " |-- Submit Downgrade: long (nullable = true)\n",
      " |-- Submit Upgrade: long (nullable = true)\n",
      " |-- Thumbs Down: long (nullable = true)\n",
      " |-- Thumbs Up: long (nullable = true)\n",
      " |-- Upgrade: long (nullable = true)\n",
      " |-- gender_bin: integer (nullable = false)\n",
      " |-- level_bin: integer (nullable = false)\n",
      " |-- avg_page_per_session: double (nullable = true)\n",
      " |-- artist: long (nullable = true)\n",
      " |-- label: integer (nullable = false)\n",
      " |-- vec1: vector (nullable = true)\n",
      " |-- scaledFeatures: vector (nullable = true)\n",
      " |-- features: vector (nullable = true)\n",
      "\n"
     ]
    }
   ],
   "source": [
    "## Create Pipeline\n",
    "pipeline = Pipeline(stages = [assembler1, scaler, assembler2])\n",
    "pipelineModel = pipeline.fit(feature_df)\n",
    "feature_df = pipelineModel.transform(feature_df)\n",
    "feature_df.printSchema()"
   ]
  },
  {
   "cell_type": "code",
   "execution_count": 131,
   "metadata": {},
   "outputs": [
    {
     "name": "stdout",
     "output_type": "stream",
     "text": [
      "Training Dataset Count: 188\n",
      "Test Dataset Count: 37\n"
     ]
    }
   ],
   "source": [
    "## Split Training and Test sets\n",
    "train, test = feature_df.randomSplit([0.8, 0.2], seed = 42)\n",
    "print(\"Training Dataset Count: \" + str(train.count()))\n",
    "print(\"Test Dataset Count: \" + str(test.count()))"
   ]
  },
  {
   "cell_type": "code",
   "execution_count": 132,
   "metadata": {},
   "outputs": [
    {
     "data": {
      "text/plain": [
       "41"
      ]
     },
     "execution_count": 132,
     "metadata": {},
     "output_type": "execute_result"
    }
   ],
   "source": [
    "## Verify how many label=1 in the training data\n",
    "train.filter(F.col('label')==1).count()"
   ]
  },
  {
   "cell_type": "code",
   "execution_count": 135,
   "metadata": {},
   "outputs": [],
   "source": [
    "def display_coefficients(model):\n",
    "    '''\n",
    "    Displays coeeficients plot if available in the model\n",
    "    '''\n",
    "    beta = np.sort(model.coefficients)\n",
    "    plt.plot(beta)\n",
    "    plt.ylabel('Beta Coefficients')\n",
    "    plt.show()\n",
    "    \n",
    "def display_ROC(model):\n",
    "    '''\n",
    "    Displays ROC curve for the model\n",
    "    '''\n",
    "    try:\n",
    "        trainingSummary = model.summary\n",
    "    except:\n",
    "        trainingSummary = model.stages[-1].summary\n",
    "    roc = trainingSummary.roc.toPandas()\n",
    "    plt.plot(roc['FPR'],roc['TPR'])\n",
    "    plt.ylabel('False Positive Rate')\n",
    "    plt.xlabel('True Positive Rate')\n",
    "    plt.title('ROC Curve')\n",
    "    plt.show()\n",
    "    print('Training set areaUnderROC: ' + str(trainingSummary.areaUnderROC))\n",
    "\n",
    "def display_precision_recall(model):\n",
    "    '''\n",
    "    Displays precision and recall plot\n",
    "    '''\n",
    "    try:\n",
    "        trainingSummary = model.summary\n",
    "    except:\n",
    "        trainingSummary = model.stages[-1].summary\n",
    "    pr = trainingSummary.pr.toPandas()\n",
    "    plt.plot(pr['recall'],pr['precision'])\n",
    "    plt.ylabel('Precision')\n",
    "    plt.xlabel('Recall')\n",
    "    plt.show()\n",
    "    \n",
    "def display_accuracy(model, alg):\n",
    "    '''\n",
    "    Displays the accuracy rate, ROC value and confusion matrix (tp, fp, tn, fn counts)\n",
    "    '''\n",
    "    prediction = model.transform(test)\n",
    "    tp = prediction.filter(prediction.label == prediction.prediction).count()\n",
    "    total = float(prediction.count())\n",
    "    accuracy = tp / total\n",
    "    print(alg)\n",
    "    print('Accuracy: Predicted {} out of {} ({})'.format(tp, total, accuracy))\n",
    "    evaluator = BinaryClassificationEvaluator()\n",
    "    print('Test Area Under ROC: {}\\n'.format(evaluator.evaluate(prediction)))\n",
    "    \n",
    "    print('TP: {}'.format(prediction.filter((F.col(\"prediction\")==1) & (F.col(\"label\")==1)).count()))\n",
    "    print('TN: {}'.format(prediction.filter((F.col(\"prediction\")==0) & (F.col(\"label\")==0)).count()))\n",
    "    print('FP: {}'.format(prediction.filter((F.col(\"prediction\")==1) & (F.col(\"label\")==0)).count()))\n",
    "    print('FN: {}'.format(prediction.filter((F.col(\"prediction\")==0) & (F.col(\"label\")==1)).count()))\n",
    "    \n",
    "    return evaluator, prediction\n",
    "\n",
    "def ExtractFeatureImp(featureImp, dataset, featuresCol):\n",
    "    '''\n",
    "    Matches feature importances attributes from the model\n",
    "    to the feature names\n",
    "    '''\n",
    "    list_extract = []\n",
    "    for i in dataset.schema[featuresCol].metadata[\"ml_attr\"][\"attrs\"]:\n",
    "        list_extract = list_extract + dataset.schema[featuresCol].metadata[\"ml_attr\"][\"attrs\"][i]\n",
    "    varlist = pd.DataFrame(list_extract)\n",
    "    varlist['score'] = varlist['idx'].apply(lambda x: featureImp[x])\n",
    "    return(varlist.sort_values('score', ascending = False))"
   ]
  },
  {
   "cell_type": "markdown",
   "metadata": {},
   "source": [
    "#### Train and Fit Logistic Regression"
   ]
  },
  {
   "cell_type": "code",
   "execution_count": 136,
   "metadata": {},
   "outputs": [
    {
     "name": "stdout",
     "output_type": "stream",
     "text": [
      "Logistic Regression\n",
      "Accuracy: Predicted 24 out of 37.0 (0.6486486486486487)\n",
      "Test Area Under ROC: 0.5174825174825175\n",
      "\n",
      "TP: 1\n",
      "TN: 23\n",
      "FP: 3\n",
      "FN: 10\n"
     ]
    }
   ],
   "source": [
    "lr = LogisticRegression(featuresCol = 'features', labelCol = 'label', maxIter=10)\n",
    "lrModel = lr.fit(train)\n",
    "\n",
    "lr_evaluator, lr_prediction = display_accuracy(lrModel, 'Logistic Regression')"
   ]
  },
  {
   "cell_type": "code",
   "execution_count": 137,
   "metadata": {},
   "outputs": [
    {
     "data": {
      "image/png": "[encoded data removed]",
      "text/plain": [
       "<Figure size 432x288 with 1 Axes>"
      ]
     },
     "metadata": {
      "needs_background": "light"
     },
     "output_type": "display_data"
    }
   ],
   "source": [
    "## Display coefficients graph of the linear Regression model\n",
    "display_coefficients(lrModel)"
   ]
  },
  {
   "cell_type": "code",
   "execution_count": 138,
   "metadata": {},
   "outputs": [
    {
     "name": "stderr",
     "output_type": "stream",
     "text": [
      "C:\\Users\\kdeside1\\AppData\\Local\\Continuum\\anaconda3\\lib\\site-packages\\matplotlib\\cbook\\__init__.py:1402: FutureWarning: Support for multi-dimensional indexing (e.g. `obj[:, None]`) is deprecated and will be removed in a future version.  Convert to a numpy array before indexing instead.\n",
      "  x[:, None]\n",
      "C:\\Users\\kdeside1\\AppData\\Local\\Continuum\\anaconda3\\lib\\site-packages\\matplotlib\\axes\\_base.py:276: FutureWarning: Support for multi-dimensional indexing (e.g. `obj[:, None]`) is deprecated and will be removed in a future version.  Convert to a numpy array before indexing instead.\n",
      "  x = x[:, np.newaxis]\n",
      "C:\\Users\\kdeside1\\AppData\\Local\\Continuum\\anaconda3\\lib\\site-packages\\matplotlib\\axes\\_base.py:278: FutureWarning: Support for multi-dimensional indexing (e.g. `obj[:, None]`) is deprecated and will be removed in a future version.  Convert to a numpy array before indexing instead.\n",
      "  y = y[:, np.newaxis]\n"
     ]
    },
    {
     "data": {
      "image/png": "[encoded data removed]",
      "text/plain": [
       "<Figure size 432x288 with 1 Axes>"
      ]
     },
     "metadata": {
      "needs_background": "light"
     },
     "output_type": "display_data"
    },
    {
     "name": "stdout",
     "output_type": "stream",
     "text": [
      "Training set areaUnderROC: 0.7703666832586692\n"
     ]
    }
   ],
   "source": [
    "## display ROC curve of the linear Regression model\n",
    "display_ROC(lrModel)"
   ]
  },
  {
   "cell_type": "code",
   "execution_count": 139,
   "metadata": {},
   "outputs": [
    {
     "name": "stderr",
     "output_type": "stream",
     "text": [
      "C:\\Users\\kdeside1\\AppData\\Local\\Continuum\\anaconda3\\lib\\site-packages\\matplotlib\\cbook\\__init__.py:1402: FutureWarning: Support for multi-dimensional indexing (e.g. `obj[:, None]`) is deprecated and will be removed in a future version.  Convert to a numpy array before indexing instead.\n",
      "  x[:, None]\n",
      "C:\\Users\\kdeside1\\AppData\\Local\\Continuum\\anaconda3\\lib\\site-packages\\matplotlib\\axes\\_base.py:276: FutureWarning: Support for multi-dimensional indexing (e.g. `obj[:, None]`) is deprecated and will be removed in a future version.  Convert to a numpy array before indexing instead.\n",
      "  x = x[:, np.newaxis]\n",
      "C:\\Users\\kdeside1\\AppData\\Local\\Continuum\\anaconda3\\lib\\site-packages\\matplotlib\\axes\\_base.py:278: FutureWarning: Support for multi-dimensional indexing (e.g. `obj[:, None]`) is deprecated and will be removed in a future version.  Convert to a numpy array before indexing instead.\n",
      "  y = y[:, np.newaxis]\n"
     ]
    },
    {
     "data": {
      "image/png": "[encoded data removed]",
      "text/plain": [
       "<Figure size 432x288 with 1 Axes>"
      ]
     },
     "metadata": {
      "needs_background": "light"
     },
     "output_type": "display_data"
    }
   ],
   "source": [
    "## Display precision and recall graph of the linear Regression model\n",
    "display_precision_recall(lrModel)"
   ]
  },
  {
   "cell_type": "code",
   "execution_count": 140,
   "metadata": {
    "scrolled": true
   },
   "outputs": [
    {
     "name": "stdout",
     "output_type": "stream",
     "text": [
      "aggregationDepth: suggested depth for treeAggregate (>= 2). (default: 2)\n",
      "elasticNetParam: the ElasticNet mixing parameter, in range [0, 1]. For alpha = 0, the penalty is an L2 penalty. For alpha = 1, it is an L1 penalty. (default: 0.0)\n",
      "family: The name of family which is a description of the label distribution to be used in the model. Supported options: auto, binomial, multinomial (default: auto)\n",
      "featuresCol: features column name. (default: features, current: features)\n",
      "fitIntercept: whether to fit an intercept term. (default: True)\n",
      "labelCol: label column name. (default: label, current: label)\n",
      "lowerBoundsOnCoefficients: The lower bounds on coefficients if fitting under bound constrained optimization. The bound matrix must be compatible with the shape (1, number of features) for binomial regression, or (number of classes, number of features) for multinomial regression. (undefined)\n",
      "lowerBoundsOnIntercepts: The lower bounds on intercepts if fitting under bound constrained optimization. The bounds vector size must beequal with 1 for binomial regression, or the number oflasses for multinomial regression. (undefined)\n",
      "maxBlockSizeInMB: maximum memory in MB for stacking input data into blocks. Data is stacked within partitions. If more than remaining data size in a partition then it is adjusted to the data size. Default 0.0 represents choosing optimal value, depends on specific algorithm. Must be >= 0. (default: 0.0)\n",
      "maxIter: max number of iterations (>= 0). (default: 100, current: 10)\n",
      "predictionCol: prediction column name. (default: prediction)\n",
      "probabilityCol: Column name for predicted class conditional probabilities. Note: Not all models output well-calibrated probability estimates! These probabilities should be treated as confidences, not precise probabilities. (default: probability)\n",
      "rawPredictionCol: raw prediction (a.k.a. confidence) column name. (default: rawPrediction)\n",
      "regParam: regularization parameter (>= 0). (default: 0.0)\n",
      "standardization: whether to standardize the training features before fitting the model. (default: True)\n",
      "threshold: Threshold in binary classification prediction, in range [0, 1]. If threshold and thresholds are both set, they must match.e.g. if threshold is p, then thresholds must be equal to [1-p, p]. (default: 0.5)\n",
      "thresholds: Thresholds in multi-class classification to adjust the probability of predicting each class. Array must have length equal to the number of classes, with values > 0, excepting that at most one value may be 0. The class with largest value p/t is predicted, where p is the original probability of that class and t is the class's threshold. (undefined)\n",
      "tol: the convergence tolerance for iterative algorithms (>= 0). (default: 1e-06)\n",
      "upperBoundsOnCoefficients: The upper bounds on coefficients if fitting under bound constrained optimization. The bound matrix must be compatible with the shape (1, number of features) for binomial regression, or (number of classes, number of features) for multinomial regression. (undefined)\n",
      "upperBoundsOnIntercepts: The upper bounds on intercepts if fitting under bound constrained optimization. The bound vector size must be equal with 1 for binomial regression, or the number of classes for multinomial regression. (undefined)\n",
      "weightCol: weight column name. If this is not set or empty, we treat all instance weights as 1.0. (undefined)\n"
     ]
    }
   ],
   "source": [
    "## Print hyperparameters of Linear Regressions\n",
    "print(lrModel.explainParams())"
   ]
  },
  {
   "cell_type": "code",
   "execution_count": 141,
   "metadata": {},
   "outputs": [
    {
     "name": "stdout",
     "output_type": "stream",
     "text": [
      "['__abstractmethods__', '__class__', '__del__', '__delattr__', '__dict__', '__dir__', '__doc__', '__eq__', '__format__', '__ge__', '__getattribute__', '__gt__', '__hash__', '__init__', '__init_subclass__', '__le__', '__lt__', '__module__', '__ne__', '__new__', '__reduce__', '__reduce_ex__', '__repr__', '__setattr__', '__sizeof__', '__str__', '__subclasshook__', '__weakref__', '_abc_cache', '_abc_negative_cache', '_abc_negative_cache_version', '_abc_registry', '_call_java', '_checkThresholdConsistency', '_copyValues', '_copy_params', '_create_from_java_class', '_create_params_from_java', '_defaultParamMap', '_dummy', '_empty_java_param_map', '_from_java', '_java_obj', '_make_java_param_pair', '_new_java_array', '_new_java_obj', '_paramMap', '_params', '_randomUID', '_resetUid', '_resolveParam', '_set', '_setDefault', '_shouldOwn', '_testOwnParam', '_to_java', '_transfer_param_map_from_java', '_transfer_param_map_to_java', '_transfer_params_from_java', '_transfer_params_to_java', '_transform', 'aggregationDepth', 'clear', 'coefficientMatrix', 'coefficients', 'copy', 'elasticNetParam', 'evaluate', 'explainParam', 'explainParams', 'extractParamMap', 'family', 'featuresCol', 'fitIntercept', 'getAggregationDepth', 'getElasticNetParam', 'getFamily', 'getFeaturesCol', 'getFitIntercept', 'getLabelCol', 'getLowerBoundsOnCoefficients', 'getLowerBoundsOnIntercepts', 'getMaxBlockSizeInMB', 'getMaxIter', 'getOrDefault', 'getParam', 'getPredictionCol', 'getProbabilityCol', 'getRawPredictionCol', 'getRegParam', 'getStandardization', 'getThreshold', 'getThresholds', 'getTol', 'getUpperBoundsOnCoefficients', 'getUpperBoundsOnIntercepts', 'getWeightCol', 'hasDefault', 'hasParam', 'hasSummary', 'intercept', 'interceptVector', 'isDefined', 'isSet', 'labelCol', 'load', 'lowerBoundsOnCoefficients', 'lowerBoundsOnIntercepts', 'maxBlockSizeInMB', 'maxIter', 'numClasses', 'numFeatures', 'params', 'predict', 'predictProbability', 'predictRaw', 'predictionCol', 'probabilityCol', 'rawPredictionCol', 'read', 'regParam', 'save', 'set', 'setFeaturesCol', 'setPredictionCol', 'setProbabilityCol', 'setRawPredictionCol', 'setThreshold', 'setThresholds', 'standardization', 'summary', 'threshold', 'thresholds', 'tol', 'transform', 'uid', 'upperBoundsOnCoefficients', 'upperBoundsOnIntercepts', 'weightCol', 'write']\n"
     ]
    }
   ],
   "source": [
    "## Print the model attributes\n",
    "print(dir(lrModel))"
   ]
  },
  {
   "cell_type": "code",
   "execution_count": 142,
   "metadata": {
    "scrolled": true
   },
   "outputs": [
    {
     "name": "stdout",
     "output_type": "stream",
     "text": [
      "+-----+----------+------------------------------------------+\n",
      "|label|prediction|rawPrediction                             |\n",
      "+-----+----------+------------------------------------------+\n",
      "|1    |0.0       |[0.9832121957089808,-0.9832121957089808]  |\n",
      "|1    |0.0       |[1.759464275067816,-1.759464275067816]    |\n",
      "|0    |0.0       |[4.1883718349066665,-4.1883718349066665]  |\n",
      "|0    |0.0       |[3.365294242523822,-3.365294242523822]    |\n",
      "|1    |0.0       |[2.07252011856805,-2.07252011856805]      |\n",
      "|1    |0.0       |[1.332695887393505,-1.332695887393505]    |\n",
      "|1    |0.0       |[0.9052553810839561,-0.9052553810839561]  |\n",
      "|0    |0.0       |[0.8488441904588181,-0.8488441904588181]  |\n",
      "|0    |0.0       |[0.7258955441122185,-0.7258955441122185]  |\n",
      "|0    |0.0       |[0.63323250864613,-0.63323250864613]      |\n",
      "|0    |0.0       |[2.442060959542963,-2.442060959542963]    |\n",
      "|1    |0.0       |[1.078573208720163,-1.078573208720163]    |\n",
      "|1    |0.0       |[2.1202240500859966,-2.1202240500859966]  |\n",
      "|0    |0.0       |[0.8391798682280982,-0.8391798682280982]  |\n",
      "|0    |0.0       |[5.730453816765753,-5.730453816765753]    |\n",
      "|0    |0.0       |[2.6595361168275575,-2.6595361168275575]  |\n",
      "|0    |0.0       |[1.0651961097825797,-1.0651961097825797]  |\n",
      "|0    |0.0       |[1.4164384557708707,-1.4164384557708707]  |\n",
      "|0    |0.0       |[1.1778414539480795,-1.1778414539480795]  |\n",
      "|0    |1.0       |[-0.9355184909664859,0.9355184909664859]  |\n",
      "|0    |0.0       |[3.2030689640122634,-3.2030689640122634]  |\n",
      "|0    |0.0       |[0.6495966450521049,-0.6495966450521049]  |\n",
      "|0    |0.0       |[2.4932366013629457,-2.4932366013629457]  |\n",
      "|0    |0.0       |[1.4317797181512872,-1.4317797181512872]  |\n",
      "|1    |0.0       |[1.4963116943609622,-1.4963116943609622]  |\n",
      "|0    |0.0       |[1.0154104273840059,-1.0154104273840059]  |\n",
      "|0    |0.0       |[1.1307853445320883,-1.1307853445320883]  |\n",
      "|0    |0.0       |[1.0040903977548947,-1.0040903977548947]  |\n",
      "|1    |0.0       |[1.5420662770777511,-1.5420662770777511]  |\n",
      "|1    |1.0       |[-0.387881276719899,0.387881276719899]    |\n",
      "|0    |1.0       |[-4.068399495334962,4.068399495334962]    |\n",
      "|1    |0.0       |[1.1995422809804246,-1.1995422809804246]  |\n",
      "|0    |1.0       |[-0.30174579292243664,0.30174579292243664]|\n",
      "|0    |0.0       |[5.726586395031973,-5.726586395031973]    |\n",
      "|0    |0.0       |[3.056106931107188,-3.056106931107188]    |\n",
      "|0    |0.0       |[1.289149307906951,-1.289149307906951]    |\n",
      "|0    |0.0       |[1.9682181992672505,-1.9682181992672505]  |\n",
      "+-----+----------+------------------------------------------+\n",
      "\n"
     ]
    }
   ],
   "source": [
    "## check the confidence level of each prediction\n",
    "lr_prediction.select('label','prediction','rawPrediction').show(50, False)"
   ]
  },
  {
   "cell_type": "code",
   "execution_count": 149,
   "metadata": {},
   "outputs": [
    {
     "name": "stdout",
     "output_type": "stream",
     "text": [
      "Linear Regression Tuned\n",
      "Accuracy: Predicted 18 out of 37.0 (0.4864864864864865)\n",
      "Test Area Under ROC: 0.5174825174825175\n",
      "\n",
      "TP: 6\n",
      "TN: 12\n",
      "FP: 14\n",
      "FN: 5\n"
     ]
    },
    {
     "data": {
      "text/plain": [
       "(BinaryClassificationEvaluator_0b72896170ab,\n",
       " DataFrame[userId: string, About: bigint, Add Friend: bigint, Add to Playlist: bigint, Downgrade: bigint, Error: bigint, Help: bigint, Home: bigint, Logout: bigint, NextSong: bigint, Roll Advert: bigint, Save Settings: bigint, Settings: bigint, Submit Downgrade: bigint, Submit Upgrade: bigint, Thumbs Down: bigint, Thumbs Up: bigint, Upgrade: bigint, gender_bin: int, level_bin: int, avg_page_per_session: double, artist: bigint, label: int, vec1: vector, scaledFeatures: vector, features: vector, rawPrediction: vector, probability: vector, prediction: double])"
      ]
     },
     "execution_count": 149,
     "metadata": {},
     "output_type": "execute_result"
    }
   ],
   "source": [
    "## Linear Regression Model Tuning\n",
    "# paramGrid = ParamGridBuilder()\\\n",
    "#             .addGrid(lrModel.maxIter,[30, 50])\\\n",
    "#             .addGrid(lrModel.regParam,[0.2,0.4])\\\n",
    "#             .build()\n",
    "\n",
    "paramGrid = ParamGridBuilder()\\\n",
    "            .addGrid(lrModel.threshold,[0.2, 0.3, 0.4])\\\n",
    "            .build()\n",
    "\n",
    "cv = CrossValidator(estimator=lr, estimatorParamMaps=paramGrid, evaluator=lr_evaluator, numFolds=5)\n",
    "cvModel = cv.fit(train)\n",
    "display_accuracy(cvModel, 'Linear Regression Tuned')"
   ]
  },
  {
   "cell_type": "markdown",
   "metadata": {},
   "source": [
    "#### Train and Fit Decision Tree"
   ]
  },
  {
   "cell_type": "code",
   "execution_count": 143,
   "metadata": {},
   "outputs": [
    {
     "name": "stdout",
     "output_type": "stream",
     "text": [
      "Decision Tree\n",
      "Accuracy: Predicted 26 out of 37.0 (0.7027027027027027)\n",
      "Test Area Under ROC: 0.7115384615384616\n",
      "\n",
      "TP: 0\n",
      "TN: 26\n",
      "FP: 0\n",
      "FN: 11\n"
     ]
    }
   ],
   "source": [
    "dt = DecisionTreeClassifier(featuresCol = 'features', labelCol = 'label', maxDepth = 3)\n",
    "dtModel = dt.fit(train)\n",
    "\n",
    "dt_evaluator, dt_prediction = display_accuracy(dtModel, 'Decision Tree')"
   ]
  },
  {
   "cell_type": "code",
   "execution_count": 144,
   "metadata": {
    "scrolled": true
   },
   "outputs": [
    {
     "name": "stdout",
     "output_type": "stream",
     "text": [
      "+-----+----------+-------------+\n",
      "|label|prediction|rawPrediction|\n",
      "+-----+----------+-------------+\n",
      "|1    |0.0       |[93.0,33.0]  |\n",
      "|1    |0.0       |[93.0,33.0]  |\n",
      "|0    |0.0       |[45.0,2.0]   |\n",
      "|0    |0.0       |[45.0,2.0]   |\n",
      "|1    |0.0       |[93.0,33.0]  |\n",
      "|1    |0.0       |[93.0,33.0]  |\n",
      "|1    |0.0       |[93.0,33.0]  |\n",
      "|0    |0.0       |[93.0,33.0]  |\n",
      "|0    |0.0       |[93.0,33.0]  |\n",
      "|0    |0.0       |[93.0,33.0]  |\n",
      "|0    |0.0       |[45.0,2.0]   |\n",
      "|1    |0.0       |[93.0,33.0]  |\n",
      "|1    |0.0       |[93.0,33.0]  |\n",
      "|0    |0.0       |[93.0,33.0]  |\n",
      "|0    |0.0       |[9.0,1.0]    |\n",
      "|0    |0.0       |[45.0,2.0]   |\n",
      "|0    |0.0       |[45.0,2.0]   |\n",
      "|0    |0.0       |[93.0,33.0]  |\n",
      "|0    |0.0       |[93.0,33.0]  |\n",
      "|0    |0.0       |[93.0,33.0]  |\n",
      "|0    |0.0       |[93.0,33.0]  |\n",
      "|0    |0.0       |[93.0,33.0]  |\n",
      "|0    |0.0       |[9.0,1.0]    |\n",
      "|0    |0.0       |[93.0,33.0]  |\n",
      "|1    |0.0       |[93.0,33.0]  |\n",
      "|0    |0.0       |[93.0,33.0]  |\n",
      "|0    |0.0       |[93.0,33.0]  |\n",
      "|0    |0.0       |[9.0,1.0]    |\n",
      "|1    |0.0       |[93.0,33.0]  |\n",
      "|1    |0.0       |[93.0,33.0]  |\n",
      "|0    |0.0       |[45.0,2.0]   |\n",
      "|1    |0.0       |[93.0,33.0]  |\n",
      "|0    |0.0       |[93.0,33.0]  |\n",
      "|0    |0.0       |[45.0,2.0]   |\n",
      "|0    |0.0       |[9.0,1.0]    |\n",
      "|0    |0.0       |[93.0,33.0]  |\n",
      "|0    |0.0       |[93.0,33.0]  |\n",
      "+-----+----------+-------------+\n",
      "\n"
     ]
    }
   ],
   "source": [
    "## Check the confidence level for each prediction\n",
    "dt_prediction.select('label','prediction','rawPrediction').show(50, False)"
   ]
  },
  {
   "cell_type": "code",
   "execution_count": 145,
   "metadata": {},
   "outputs": [],
   "source": [
    "## Print the Decision Tree model attributes\n",
    "# print(dir(dtModel))"
   ]
  },
  {
   "cell_type": "markdown",
   "metadata": {},
   "source": [
    "#### Train and Fit Random Forest"
   ]
  },
  {
   "cell_type": "code",
   "execution_count": 146,
   "metadata": {},
   "outputs": [
    {
     "name": "stdout",
     "output_type": "stream",
     "text": [
      "Random Forest\n",
      "Accuracy: Predicted 27 out of 37.0 (0.7297297297297297)\n",
      "Test Area Under ROC: 0.5909090909090909\n",
      "\n",
      "TP: 1\n",
      "TN: 26\n",
      "FP: 0\n",
      "FN: 10\n"
     ]
    }
   ],
   "source": [
    "rf = RandomForestClassifier(featuresCol = 'features', labelCol = 'label')\n",
    "rfModel = rf.fit(train)\n",
    "\n",
    "rf_evaluator, rf_prediction = display_accuracy(rfModel, 'Random Forest')"
   ]
  },
  {
   "cell_type": "code",
   "execution_count": 153,
   "metadata": {},
   "outputs": [
    {
     "name": "stdout",
     "output_type": "stream",
     "text": [
      "['__abstractmethods__', '__class__', '__del__', '__delattr__', '__dict__', '__dir__', '__doc__', '__eq__', '__format__', '__ge__', '__getattribute__', '__gt__', '__hash__', '__init__', '__init_subclass__', '__le__', '__lt__', '__module__', '__ne__', '__new__', '__reduce__', '__reduce_ex__', '__repr__', '__setattr__', '__sizeof__', '__str__', '__subclasshook__', '__weakref__', '_abc_cache', '_abc_negative_cache', '_abc_negative_cache_version', '_abc_registry', '_call_java', '_copyValues', '_copy_params', '_create_from_java_class', '_create_params_from_java', '_defaultParamMap', '_dummy', '_empty_java_param_map', '_from_java', '_java_obj', '_make_java_param_pair', '_new_java_array', '_new_java_obj', '_paramMap', '_params', '_randomUID', '_resetUid', '_resolveParam', '_set', '_setDefault', '_shouldOwn', '_testOwnParam', '_to_java', '_transfer_param_map_from_java', '_transfer_param_map_to_java', '_transfer_params_from_java', '_transfer_params_to_java', '_transform', 'bootstrap', 'cacheNodeIds', 'checkpointInterval', 'clear', 'copy', 'evaluate', 'explainParam', 'explainParams', 'extractParamMap', 'featureImportances', 'featureSubsetStrategy', 'featuresCol', 'getBootstrap', 'getCacheNodeIds', 'getCheckpointInterval', 'getFeatureSubsetStrategy', 'getFeaturesCol', 'getImpurity', 'getLabelCol', 'getLeafCol', 'getMaxBins', 'getMaxDepth', 'getMaxMemoryInMB', 'getMinInfoGain', 'getMinInstancesPerNode', 'getMinWeightFractionPerNode', 'getNumTrees', 'getOrDefault', 'getParam', 'getPredictionCol', 'getProbabilityCol', 'getRawPredictionCol', 'getSeed', 'getSubsamplingRate', 'getThresholds', 'getWeightCol', 'hasDefault', 'hasParam', 'hasSummary', 'impurity', 'isDefined', 'isSet', 'labelCol', 'leafCol', 'load', 'maxBins', 'maxDepth', 'maxMemoryInMB', 'minInfoGain', 'minInstancesPerNode', 'minWeightFractionPerNode', 'numClasses', 'numFeatures', 'numTrees', 'params', 'predict', 'predictLeaf', 'predictProbability', 'predictRaw', 'predictionCol', 'probabilityCol', 'rawPredictionCol', 'read', 'save', 'seed', 'set', 'setFeaturesCol', 'setLeafCol', 'setPredictionCol', 'setProbabilityCol', 'setRawPredictionCol', 'setThresholds', 'subsamplingRate', 'summary', 'supportedFeatureSubsetStrategies', 'supportedImpurities', 'thresholds', 'toDebugString', 'totalNumNodes', 'transform', 'treeWeights', 'trees', 'uid', 'weightCol', 'write']\n"
     ]
    }
   ],
   "source": [
    "## Print the Random Forest model attributes\n",
    "print(dir(rfModel))"
   ]
  },
  {
   "cell_type": "code",
   "execution_count": 154,
   "metadata": {
    "scrolled": true
   },
   "outputs": [
    {
     "name": "stdout",
     "output_type": "stream",
     "text": [
      "bootstrap: Whether bootstrap samples are used when building trees. (default: True)\n",
      "cacheNodeIds: If false, the algorithm will pass trees to executors to match instances with nodes. If true, the algorithm will cache node IDs for each instance. Caching can speed up training of deeper trees. Users can set how often should the cache be checkpointed or disable it by setting checkpointInterval. (default: False)\n",
      "checkpointInterval: set checkpoint interval (>= 1) or disable checkpoint (-1). E.g. 10 means that the cache will get checkpointed every 10 iterations. Note: this setting will be ignored if the checkpoint directory is not set in the SparkContext. (default: 10)\n",
      "featureSubsetStrategy: The number of features to consider for splits at each tree node. Supported options: 'auto' (choose automatically for task: If numTrees == 1, set to 'all'. If numTrees > 1 (forest), set to 'sqrt' for classification and to 'onethird' for regression), 'all' (use all features), 'onethird' (use 1/3 of the features), 'sqrt' (use sqrt(number of features)), 'log2' (use log2(number of features)), 'n' (when n is in the range (0, 1.0], use n * number of features. When n is in the range (1, number of features), use n features). default = 'auto' (default: auto)\n",
      "featuresCol: features column name. (default: features, current: features)\n",
      "impurity: Criterion used for information gain calculation (case-insensitive). Supported options: entropy, gini (default: gini)\n",
      "labelCol: label column name. (default: label, current: label)\n",
      "leafCol: Leaf indices column name. Predicted leaf index of each instance in each tree by preorder. (default: )\n",
      "maxBins: Max number of bins for discretizing continuous features.  Must be >=2 and >= number of categories for any categorical feature. (default: 32)\n",
      "maxDepth: Maximum depth of the tree. (>= 0) E.g., depth 0 means 1 leaf node; depth 1 means 1 internal node + 2 leaf nodes. (default: 5)\n",
      "maxMemoryInMB: Maximum memory in MB allocated to histogram aggregation. If too small, then 1 node will be split per iteration, and its aggregates may exceed this size. (default: 256)\n",
      "minInfoGain: Minimum information gain for a split to be considered at a tree node. (default: 0.0)\n",
      "minInstancesPerNode: Minimum number of instances each child must have after split. If a split causes the left or right child to have fewer than minInstancesPerNode, the split will be discarded as invalid. Should be >= 1. (default: 1)\n",
      "minWeightFractionPerNode: Minimum fraction of the weighted sample count that each child must have after split. If a split causes the fraction of the total weight in the left or right child to be less than minWeightFractionPerNode, the split will be discarded as invalid. Should be in interval [0.0, 0.5). (default: 0.0)\n",
      "numTrees: Number of trees to train (>= 1). (default: 20)\n",
      "predictionCol: prediction column name. (default: prediction)\n",
      "probabilityCol: Column name for predicted class conditional probabilities. Note: Not all models output well-calibrated probability estimates! These probabilities should be treated as confidences, not precise probabilities. (default: probability)\n",
      "rawPredictionCol: raw prediction (a.k.a. confidence) column name. (default: rawPrediction)\n",
      "seed: random seed. (default: -5896112685687856024)\n",
      "subsamplingRate: Fraction of the training data used for learning each decision tree, in range (0, 1]. (default: 1.0)\n",
      "thresholds: Thresholds in multi-class classification to adjust the probability of predicting each class. Array must have length equal to the number of classes, with values > 0, excepting that at most one value may be 0. The class with largest value p/t is predicted, where p is the original probability of that class and t is the class's threshold. (undefined)\n",
      "weightCol: weight column name. If this is not set or empty, we treat all instance weights as 1.0. (undefined)\n"
     ]
    }
   ],
   "source": [
    "## Print the hyperparameters of Random Forest\n",
    "print(rfModel.explainParams())"
   ]
  },
  {
   "cell_type": "code",
   "execution_count": 156,
   "metadata": {},
   "outputs": [
    {
     "name": "stdout",
     "output_type": "stream",
     "text": [
      "Random Forest Tuned\n",
      "Accuracy: Predicted 28 out of 37.0 (0.7567567567567568)\n",
      "Test Area Under ROC: 0.5751748251748253\n",
      "\n",
      "TP: 2\n",
      "TN: 26\n",
      "FP: 0\n",
      "FN: 9\n"
     ]
    }
   ],
   "source": [
    "## Random Forest Model Tuning\n",
    "paramGrid = ParamGridBuilder()\\\n",
    "            .addGrid(rfModel.bootstrap, [True, False])\\\n",
    "            .addGrid(rfModel.maxDepth, [2, 5, 8])\\\n",
    "            .addGrid(rfModel.featureSubsetStrategy, ['auto','sqrt','onethird'])\\\n",
    "            .build()\n",
    "\n",
    "cv_rf = CrossValidator(estimator=rf, estimatorParamMaps=paramGrid, evaluator=rf_evaluator, numFolds=5)\n",
    "cv_rf_Model = cv_rf.fit(train)\n",
    "cv_rf_evaluator, cv_rf_prediction = display_accuracy(cv_rf_Model, 'Random Forest Tuned')"
   ]
  },
  {
   "cell_type": "code",
   "execution_count": 220,
   "metadata": {
    "scrolled": true
   },
   "outputs": [
    {
     "data": {
      "text/plain": [
       "['__abstractmethods__',\n",
       " '__class__',\n",
       " '__delattr__',\n",
       " '__dict__',\n",
       " '__dir__',\n",
       " '__doc__',\n",
       " '__eq__',\n",
       " '__format__',\n",
       " '__ge__',\n",
       " '__getattribute__',\n",
       " '__gt__',\n",
       " '__hash__',\n",
       " '__init__',\n",
       " '__init_subclass__',\n",
       " '__le__',\n",
       " '__lt__',\n",
       " '__module__',\n",
       " '__ne__',\n",
       " '__new__',\n",
       " '__reduce__',\n",
       " '__reduce_ex__',\n",
       " '__repr__',\n",
       " '__setattr__',\n",
       " '__sizeof__',\n",
       " '__str__',\n",
       " '__subclasshook__',\n",
       " '__weakref__',\n",
       " '_abc_cache',\n",
       " '_abc_negative_cache',\n",
       " '_abc_negative_cache_version',\n",
       " '_abc_registry',\n",
       " '_copyValues',\n",
       " '_copy_params',\n",
       " '_defaultParamMap',\n",
       " '_dummy',\n",
       " '_from_java',\n",
       " '_from_java_impl',\n",
       " '_paramMap',\n",
       " '_params',\n",
       " '_randomUID',\n",
       " '_resetUid',\n",
       " '_resolveParam',\n",
       " '_set',\n",
       " '_setDefault',\n",
       " '_shouldOwn',\n",
       " '_testOwnParam',\n",
       " '_to_java',\n",
       " '_to_java_impl',\n",
       " '_transform',\n",
       " 'avgMetrics',\n",
       " 'bestModel',\n",
       " 'clear',\n",
       " 'copy',\n",
       " 'estimator',\n",
       " 'estimatorParamMaps',\n",
       " 'evaluator',\n",
       " 'explainParam',\n",
       " 'explainParams',\n",
       " 'extractParamMap',\n",
       " 'foldCol',\n",
       " 'getEstimator',\n",
       " 'getEstimatorParamMaps',\n",
       " 'getEvaluator',\n",
       " 'getFoldCol',\n",
       " 'getNumFolds',\n",
       " 'getOrDefault',\n",
       " 'getParam',\n",
       " 'getSeed',\n",
       " 'hasDefault',\n",
       " 'hasParam',\n",
       " 'isDefined',\n",
       " 'isSet',\n",
       " 'load',\n",
       " 'numFolds',\n",
       " 'params',\n",
       " 'read',\n",
       " 'save',\n",
       " 'seed',\n",
       " 'set',\n",
       " 'subModels',\n",
       " 'transform',\n",
       " 'uid',\n",
       " 'write']"
      ]
     },
     "execution_count": 220,
     "metadata": {},
     "output_type": "execute_result"
    }
   ],
   "source": [
    "dir(cv_rf_Model)"
   ]
  },
  {
   "cell_type": "code",
   "execution_count": 235,
   "metadata": {},
   "outputs": [
    {
     "name": "stdout",
     "output_type": "stream",
     "text": [
      "{Param(parent='RandomForestClassifier_d75eb5c1f049', name='bootstrap', doc='Whether bootstrap samples are used when building trees.'): False, Param(parent='RandomForestClassifier_d75eb5c1f049', name='maxDepth', doc='Maximum depth of the tree. (>= 0) E.g., depth 0 means 1 leaf node; depth 1 means 1 internal node + 2 leaf nodes.'): 8, Param(parent='RandomForestClassifier_d75eb5c1f049', name='featureSubsetStrategy', doc=\"The number of features to consider for splits at each tree node. Supported options: 'auto' (choose automatically for task: If numTrees == 1, set to 'all'. If numTrees > 1 (forest), set to 'sqrt' for classification and to 'onethird' for regression), 'all' (use all features), 'onethird' (use 1/3 of the features), 'sqrt' (use sqrt(number of features)), 'log2' (use log2(number of features)), 'n' (when n is in the range (0, 1.0], use n * number of features. When n is in the range (1, number of features), use n features). default = 'auto'\"): 'auto'}\n"
     ]
    }
   ],
   "source": [
    "## Print the best hyperparameters extracted from cv model\n",
    "print(cv_rf_Model.getEstimatorParamMaps()[np.argmax(cv_rf_Model.avgMetrics)])"
   ]
  },
  {
   "cell_type": "code",
   "execution_count": 173,
   "metadata": {},
   "outputs": [
    {
     "data": {
      "text/plain": [
       "DataFrame[userId: string, About: bigint, Add Friend: bigint, Add to Playlist: bigint, Downgrade: bigint, Error: bigint, Help: bigint, Home: bigint, Logout: bigint, NextSong: bigint, Roll Advert: bigint, Save Settings: bigint, Settings: bigint, Submit Downgrade: bigint, Submit Upgrade: bigint, Thumbs Down: bigint, Thumbs Up: bigint, Upgrade: bigint, gender_bin: int, level_bin: int, avg_page_per_session: double, artist: bigint, label: int, vec1: vector, scaledFeatures: vector, features: vector, rawPrediction: vector, probability: vector, prediction: double]"
      ]
     },
     "execution_count": 173,
     "metadata": {},
     "output_type": "execute_result"
    }
   ],
   "source": [
    "cv_rf_prediction"
   ]
  },
  {
   "cell_type": "code",
   "execution_count": 178,
   "metadata": {
    "scrolled": true
   },
   "outputs": [
    {
     "name": "stdout",
     "output_type": "stream",
     "text": [
      "+-----+----------+----------------------------------------+-----------------------------------------+\n",
      "|label|prediction|rawPrediction                           |probability                              |\n",
      "+-----+----------+----------------------------------------+-----------------------------------------+\n",
      "|1    |0.0       |[18.03465447807553,1.9653455219244695]  |[0.9017327239037766,0.09826727609622347] |\n",
      "|1    |0.0       |[10.570833333333333,9.429166666666667]  |[0.5285416666666667,0.47145833333333337] |\n",
      "|0    |0.0       |[19.9375,0.0625]                        |[0.996875,0.003125]                      |\n",
      "|0    |0.0       |[17.97222222222222,2.0277777777777777]  |[0.898611111111111,0.10138888888888889]  |\n",
      "|1    |0.0       |[19.024175072710722,0.9758249272892734] |[0.9512087536355363,0.04879124636446368] |\n",
      "|1    |0.0       |[12.881317204301077,7.118682795698924]  |[0.6440658602150539,0.3559341397849462]  |\n",
      "|1    |0.0       |[16.753697467407143,3.2463025325928543] |[0.8376848733703574,0.16231512662964273] |\n",
      "|0    |0.0       |[16.80035685090863,3.1996431490913664]  |[0.8400178425454318,0.15998215745456834] |\n",
      "|0    |0.0       |[14.4,5.6]                              |[0.72,0.27999999999999997]               |\n",
      "|0    |0.0       |[19.869517543859647,0.13048245614035087]|[0.9934758771929826,0.006524122807017544]|\n",
      "|0    |0.0       |[19.57638888888889,0.4236111111111111]  |[0.9788194444444445,0.021180555555555557]|\n",
      "|1    |0.0       |[13.077505827505826,6.922494172494172]  |[0.6538752913752913,0.3461247086247086]  |\n",
      "|1    |0.0       |[17.830555555555556,2.1694444444444443] |[0.8915277777777778,0.10847222222222222] |\n",
      "|0    |0.0       |[15.637169246995223,4.3628307530047765] |[0.7818584623497611,0.21814153765023883] |\n",
      "|0    |0.0       |[17.0,3.0]                              |[0.85,0.15]                              |\n",
      "|0    |0.0       |[17.355555555555554,2.6444444444444444] |[0.8677777777777778,0.1322222222222222]  |\n",
      "|0    |0.0       |[13.270833333333334,6.729166666666667]  |[0.6635416666666667,0.33645833333333336] |\n",
      "|0    |0.0       |[17.380758990584965,2.619241009415033]  |[0.8690379495292483,0.13096205047075166] |\n",
      "|0    |0.0       |[15.222222222222221,4.777777777777778]  |[0.7611111111111111,0.23888888888888887] |\n",
      "|0    |0.0       |[13.566666666666666,6.433333333333333]  |[0.6783333333333333,0.32166666666666666] |\n",
      "|0    |0.0       |[13.247023809523808,6.752976190476191]  |[0.6623511904761904,0.33764880952380955] |\n",
      "|0    |0.0       |[18.03465447807553,1.9653455219244695]  |[0.9017327239037766,0.09826727609622347] |\n",
      "|0    |0.0       |[19.83906882591093,0.16093117408906882] |[0.9919534412955466,0.008046558704453442]|\n",
      "|0    |0.0       |[13.43450462792568,6.56549537207432]    |[0.671725231396284,0.328274768603716]    |\n",
      "|1    |1.0       |[8.827135603345281,11.172864396654719]  |[0.4413567801672641,0.5586432198327359]  |\n",
      "|0    |0.0       |[19.072251995787646,0.9277480042123504] |[0.9536125997893825,0.046387400210617526]|\n",
      "|0    |0.0       |[11.653702097123153,8.34629790287685]   |[0.5826851048561575,0.41731489514384246] |\n",
      "|0    |0.0       |[15.0,5.0]                              |[0.75,0.25]                              |\n",
      "|1    |0.0       |[19.640350877192983,0.35964912280701755]|[0.9820175438596491,0.017982456140350878]|\n",
      "|1    |1.0       |[9.916666666666666,10.083333333333334]  |[0.4958333333333333,0.5041666666666667]  |\n",
      "|0    |0.0       |[15.647222222222222,4.352777777777778]  |[0.7823611111111111,0.21763888888888888] |\n",
      "|1    |0.0       |[18.397983870967742,1.602016129032258]  |[0.9198991935483871,0.08010080645161291] |\n",
      "|0    |0.0       |[14.540841013824885,5.459158986175115]  |[0.7270420506912443,0.2729579493087558]  |\n",
      "|0    |0.0       |[13.0,7.0]                              |[0.65,0.35]                              |\n",
      "|0    |0.0       |[10.547619047619047,9.452380952380953]  |[0.5273809523809524,0.4726190476190476]  |\n",
      "|0    |0.0       |[16.522877361587035,3.4771226384129608] |[0.8261438680793519,0.17385613192064808] |\n",
      "|0    |0.0       |[18.42138350943529,1.578616490564708]   |[0.9210691754717646,0.0789308245282354]  |\n",
      "+-----+----------+----------------------------------------+-----------------------------------------+\n",
      "\n"
     ]
    }
   ],
   "source": [
    "cv_rf_prediction.select('label','prediction','rawPrediction','probability').show(50, False)"
   ]
  },
  {
   "cell_type": "code",
   "execution_count": 163,
   "metadata": {},
   "outputs": [],
   "source": [
    "## extract rawPrediction column from the prediction output\n",
    "score_col = cv_rf_prediction.toPandas()['rawPrediction']\n",
    "\n",
    "## Take the 2nd element of the list and put into an array\n",
    "score_array = []\n",
    "for i in score_col:\n",
    "    score_array.append(i[1])"
   ]
  },
  {
   "cell_type": "code",
   "execution_count": 172,
   "metadata": {},
   "outputs": [
    {
     "data": {
      "text/plain": [
       "<matplotlib.axes._subplots.AxesSubplot at 0x1dc27920b38>"
      ]
     },
     "execution_count": 172,
     "metadata": {},
     "output_type": "execute_result"
    },
    {
     "data": {
      "image/png": "[encoded data removed]",
      "text/plain": [
       "<Figure size 432x288 with 1 Axes>"
      ]
     },
     "metadata": {
      "needs_background": "light"
     },
     "output_type": "display_data"
    }
   ],
   "source": [
    "## Plot the distribution of the rawPrediction score.  \n",
    "sns.distplot(score_array)"
   ]
  },
  {
   "cell_type": "code",
   "execution_count": 174,
   "metadata": {},
   "outputs": [],
   "source": [
    "## Extract the probability column from the prediction output\n",
    "prob_col = cv_rf_prediction.toPandas()['probability']\n",
    "\n",
    "## Take the 2nd element of the list and put into an array\n",
    "prob_array = []\n",
    "for i in prob_col:\n",
    "    prob_array.append(i[1])"
   ]
  },
  {
   "cell_type": "code",
   "execution_count": 177,
   "metadata": {},
   "outputs": [
    {
     "data": {
      "text/plain": [
       "<matplotlib.axes._subplots.AxesSubplot at 0x1dc2797cf60>"
      ]
     },
     "execution_count": 177,
     "metadata": {},
     "output_type": "execute_result"
    },
    {
     "data": {
      "image/png": "[encoded data removed]",
      "text/plain": [
       "<Figure size 432x288 with 1 Axes>"
      ]
     },
     "metadata": {
      "needs_background": "light"
     },
     "output_type": "display_data"
    }
   ],
   "source": [
    "## Plot the distribution of the probability score\n",
    "sns.distplot(prob_array)"
   ]
  },
  {
   "cell_type": "markdown",
   "metadata": {},
   "source": [
    "#### Evaluate ROC AUC for each model"
   ]
  },
  {
   "cell_type": "code",
   "execution_count": 196,
   "metadata": {},
   "outputs": [],
   "source": [
    "## Function to convert rawPrediction column from each model to a single value\n",
    "def get_first_score(vecstring):\n",
    "    '''\n",
    "    Input:  rawPrediction from Spark DenseVector converted to string\n",
    "    Output:  Array of the first element in the lists\n",
    "    '''\n",
    "    return vecstring.replace('[','').split(',')[0]"
   ]
  },
  {
   "cell_type": "code",
   "execution_count": 212,
   "metadata": {},
   "outputs": [],
   "source": [
    "## Import sklearn for ROC curve function\n",
    "from sklearn.metrics import roc_curve, auc, fbeta_score"
   ]
  },
  {
   "cell_type": "code",
   "execution_count": 179,
   "metadata": {},
   "outputs": [],
   "source": [
    "## For each model, convert the table to Pands, create a new column and put the rawPrediction single value \n",
    "\n",
    "## Linear Regression\n",
    "lr_pred_pd = lr_prediction.toPandas()\n",
    "lr_pred_pdcp = lr_pred_pd.copy()\n",
    "lr_pred_pdcp['rawPrediction_single'] = lr_pred_pdcp['rawPrediction'].astype(str).apply(get_first_score)\n",
    "lr_pred_pdcp['rawPrediction_single'] = lr_pred_pdcp['rawPrediction_single'].astype(float)\n",
    "\n",
    "## Decision Tree\n",
    "dt_pred_pd = dt_prediction.toPandas()\n",
    "dt_pred_pdcp = dt_pred_pd.copy()\n",
    "dt_pred_pdcp['rawPrediction_single'] = dt_pred_pdcp['rawPrediction'].astype(str).apply(get_first_score)\n",
    "dt_pred_pdcp['rawPrediction_single'] = dt_pred_pdcp['rawPrediction_single'].astype(float)\n",
    "\n",
    "## Random Forest\n",
    "cvrf_pred_pd = cv_rf_prediction.toPandas()\n",
    "cvrf_pred_pdcp = cvrf_pred_pd.copy()\n",
    "cvrf_pred_pdcp['rawPrediction_single'] = cvrf_pred_pdcp['rawPrediction'].astype(str).apply(get_first_score)\n",
    "cvrf_pred_pdcp['rawPrediction_single'] = cvrf_pred_pdcp['rawPrediction_single'].astype(float)"
   ]
  },
  {
   "cell_type": "code",
   "execution_count": 211,
   "metadata": {},
   "outputs": [
    {
     "data": {
      "image/png": "[encoded data removed]",
      "text/plain": [
       "<Figure size 432x288 with 1 Axes>"
      ]
     },
     "metadata": {
      "needs_background": "light"
     },
     "output_type": "display_data"
    }
   ],
   "source": [
    "## Plot ROC curve and calculate AUC (displayed in the plot) for all models for comparison\n",
    "fpr1, tpr1, thresholds1 = roc_curve(lr_pred_pdcp['label'],lr_pred_pdcp['rawPrediction_single'], pos_label=1)\n",
    "roc_auc1 = auc(fpr1, tpr1)\n",
    "fpr2, tpr2, thresholds2 = roc_curve(dt_pred_pdcp['label'],dt_pred_pdcp['rawPrediction_single'], pos_label=1)\n",
    "roc_auc2 = auc(fpr2, tpr2)\n",
    "fpr3, tpr3, thresholds3 = roc_curve(cvrf_pred_pdcp['label'],cvrf_pred_pdcp['rawPrediction_single'], pos_label=1)\n",
    "roc_auc3 = auc(fpr3, tpr3)\n",
    "    \n",
    "plt.plot(fpr1, tpr1, lw=3, label='Linear Regression %d (auc = %0.4f)' % (1, roc_auc1))\n",
    "plt.plot(fpr2, tpr2, lw=3, label='Decision Tree %d (auc = %0.4f)' % (1, roc_auc2))\n",
    "plt.plot(fpr3, tpr3, lw=3, label='Random Forest %d (auc = %0.4f)' % (1, roc_auc3))\n",
    "plt.plot([0, 1], [0, 1], '--', color=(0.6, 0.6, 0.6), label='Luck')\n",
    "plt.xlim([-0.05, 1.05])\n",
    "plt.ylim([-0.05, 1.05])\n",
    "plt.xlabel('False Positive Rate')\n",
    "plt.ylabel('True Positive Rate')\n",
    "plt.title('Receiver operating Curve')\n",
    "plt.legend(loc=\"lower right\")\n",
    "plt.grid()\n",
    "plt.show()"
   ]
  },
  {
   "cell_type": "markdown",
   "metadata": {},
   "source": [
    "#### Evaluate F2 Score for each model"
   ]
  },
  {
   "cell_type": "code",
   "execution_count": 214,
   "metadata": {},
   "outputs": [
    {
     "data": {
      "text/plain": [
       "0.1851851851851852"
      ]
     },
     "execution_count": 214,
     "metadata": {},
     "output_type": "execute_result"
    }
   ],
   "source": [
    "## Linear Regression Model\n",
    "fbeta_score(lr_pred_pdcp['label'], lr_pred_pdcp['prediction'], beta=0.5)"
   ]
  },
  {
   "cell_type": "code",
   "execution_count": 215,
   "metadata": {},
   "outputs": [
    {
     "name": "stderr",
     "output_type": "stream",
     "text": [
      "C:\\Users\\kdeside1\\AppData\\Local\\Continuum\\anaconda3\\lib\\site-packages\\sklearn\\metrics\\classification.py:1437: UndefinedMetricWarning: F-score is ill-defined and being set to 0.0 due to no predicted samples.\n",
      "  'precision', 'predicted', average, warn_for)\n"
     ]
    },
    {
     "data": {
      "text/plain": [
       "0.0"
      ]
     },
     "execution_count": 215,
     "metadata": {},
     "output_type": "execute_result"
    }
   ],
   "source": [
    "## Decision Trees Model\n",
    "fbeta_score(dt_pred_pdcp['label'], dt_pred_pdcp['prediction'], beta=0.5)"
   ]
  },
  {
   "cell_type": "code",
   "execution_count": 216,
   "metadata": {},
   "outputs": [
    {
     "data": {
      "text/plain": [
       "0.5263157894736843"
      ]
     },
     "execution_count": 216,
     "metadata": {},
     "output_type": "execute_result"
    }
   ],
   "source": [
    "## Random Forest Model\n",
    "fbeta_score(cvrf_pred_pdcp['label'], cvrf_pred_pdcp['prediction'], beta=0.5)"
   ]
  },
  {
   "cell_type": "markdown",
   "metadata": {},
   "source": [
    "# Final Steps\n",
    "Clean up your code, adding comments and renaming variables to make the code easier to read and maintain. Refer to the Spark Project Overview page and Data Scientist Capstone Project Rubric to make sure you are including all components of the capstone project and meet all expectations. Remember, this includes thorough documentation in a README file in a Github repository, as well as a web app or blog post."
   ]
  },
  {
   "cell_type": "code",
   "execution_count": null,
   "metadata": {},
   "outputs": [],
   "source": []
  }
 ],
 "metadata": {
  "kernelspec": {
   "display_name": "Python 3",
   "language": "python",
   "name": "python3"
  },
  "language_info": {
   "codemirror_mode": {
    "name": "ipython",
    "version": 3
   },
   "file_extension": ".py",
   "mimetype": "text/x-python",
   "name": "python",
   "nbconvert_exporter": "python",
   "pygments_lexer": "ipython3",
   "version": "3.6.3"
  }
 },
 "nbformat": 4,
 "nbformat_minor": 2
}
