{
 "cells": [
  {
   "cell_type": "markdown",
   "metadata": {},
   "source": [
    "# Sparkify Project Workspace\n",
    "This workspace contains a tiny subset (128MB) of the full dataset available (12GB). Feel free to use this workspace to build your project, or to explore a smaller subset with Spark before deploying your cluster on the cloud. Instructions for setting up your Spark cluster is included in the last lesson of the Extracurricular Spark Course content.\n",
    "\n",
    "You can follow the steps below to guide your data analysis and model building portion of this project."
   ]
  },
  {
   "cell_type": "code",
   "execution_count": 1,
   "metadata": {},
   "outputs": [],
   "source": [
    "# import libraries\n",
    "from pyspark.sql import SparkSession, Row\n",
    "import pyspark.sql.functions as F\n",
    "from pyspark.sql.functions import col, isnan, count, when, countDistinct, concat, max, min, sum\n",
    "from pyspark.sql.window import Window \n",
    "from pyspark.ml.feature import VectorAssembler, StandardScaler, Normalizer, OneHotEncoder\n",
    "from pyspark.ml import Pipeline\n",
    "from pyspark.ml.classification import LogisticRegression, DecisionTreeClassifier, RandomForestClassifier, GBTClassifier, LinearSVC\n",
    "from pyspark.ml.tuning import ParamGridBuilder, CrossValidator\n",
    "from pyspark.ml.evaluation import BinaryClassificationEvaluator\n",
    "import matplotlib.pyplot as plt\n",
    "import pandas as pd\n",
    "import numpy as np\n",
    "import seaborn as sns"
   ]
  },
  {
   "cell_type": "code",
   "execution_count": 2,
   "metadata": {},
   "outputs": [],
   "source": [
    "# create a Spark session\n",
    "spark = SparkSession.builder \\\n",
    "    .master(\"local\") \\\n",
    "    .appName(\"Creating Features\") \\\n",
    "    .getOrCreate()"
   ]
  },
  {
   "cell_type": "markdown",
   "metadata": {},
   "source": [
    "# Load and Clean Dataset\n",
    "In this workspace, the mini-dataset file is `mini_sparkify_event_data.json`. Load and clean the dataset, checking for invalid or missing data - for example, records without userids or sessionids. "
   ]
  },
  {
   "cell_type": "code",
   "execution_count": 3,
   "metadata": {},
   "outputs": [
    {
     "data": {
      "text/plain": [
       "DataFrame[artist: string, auth: string, firstName: string, gender: string, itemInSession: bigint, lastName: string, length: double, level: string, location: string, method: string, page: string, registration: bigint, sessionId: bigint, song: string, status: bigint, ts: bigint, userAgent: string, userId: string]"
      ]
     },
     "execution_count": 3,
     "metadata": {},
     "output_type": "execute_result"
    }
   ],
   "source": [
    "## Load the data into dataframe and persist the data\n",
    "data = 'mini_sparkify_event_data.json'\n",
    "df = spark.read.json(data)\n",
    "df.persist()"
   ]
  },
  {
   "cell_type": "code",
   "execution_count": 4,
   "metadata": {},
   "outputs": [
    {
     "name": "stdout",
     "output_type": "stream",
     "text": [
      "root\n",
      " |-- artist: string (nullable = true)\n",
      " |-- auth: string (nullable = true)\n",
      " |-- firstName: string (nullable = true)\n",
      " |-- gender: string (nullable = true)\n",
      " |-- itemInSession: long (nullable = true)\n",
      " |-- lastName: string (nullable = true)\n",
      " |-- length: double (nullable = true)\n",
      " |-- level: string (nullable = true)\n",
      " |-- location: string (nullable = true)\n",
      " |-- method: string (nullable = true)\n",
      " |-- page: string (nullable = true)\n",
      " |-- registration: long (nullable = true)\n",
      " |-- sessionId: long (nullable = true)\n",
      " |-- song: string (nullable = true)\n",
      " |-- status: long (nullable = true)\n",
      " |-- ts: long (nullable = true)\n",
      " |-- userAgent: string (nullable = true)\n",
      " |-- userId: string (nullable = true)\n",
      "\n"
     ]
    }
   ],
   "source": [
    "## print the schema\n",
    "df.printSchema()"
   ]
  },
  {
   "cell_type": "code",
   "execution_count": 5,
   "metadata": {},
   "outputs": [
    {
     "data": {
      "text/plain": [
       "(286500, 18)"
      ]
     },
     "execution_count": 5,
     "metadata": {},
     "output_type": "execute_result"
    }
   ],
   "source": [
    "## dataframe shape\n",
    "df.count(), len(df.columns)"
   ]
  },
  {
   "cell_type": "code",
   "execution_count": 6,
   "metadata": {},
   "outputs": [
    {
     "name": "stdout",
     "output_type": "stream",
     "text": [
      "+----------------+---------+---------+------+-------------+--------+---------+-----+--------------------+------+--------+-------------+---------+--------------------+------+-------------+--------------------+------+\n",
      "|          artist|     auth|firstName|gender|itemInSession|lastName|   length|level|            location|method|    page| registration|sessionId|                song|status|           ts|           userAgent|userId|\n",
      "+----------------+---------+---------+------+-------------+--------+---------+-----+--------------------+------+--------+-------------+---------+--------------------+------+-------------+--------------------+------+\n",
      "|  Martha Tilston|Logged In|    Colin|     M|           50| Freeman|277.89016| paid|     Bakersfield, CA|   PUT|NextSong|1538173362000|       29|           Rockpools|   200|1538352117000|Mozilla/5.0 (Wind...|    30|\n",
      "|Five Iron Frenzy|Logged In|    Micah|     M|           79|    Long|236.09424| free|Boston-Cambridge-...|   PUT|NextSong|1538331630000|        8|              Canada|   200|1538352180000|\"Mozilla/5.0 (Win...|     9|\n",
      "|    Adam Lambert|Logged In|    Colin|     M|           51| Freeman| 282.8273| paid|     Bakersfield, CA|   PUT|NextSong|1538173362000|       29|   Time For Miracles|   200|1538352394000|Mozilla/5.0 (Wind...|    30|\n",
      "|          Enigma|Logged In|    Micah|     M|           80|    Long|262.71302| free|Boston-Cambridge-...|   PUT|NextSong|1538331630000|        8|Knocking On Forbi...|   200|1538352416000|\"Mozilla/5.0 (Win...|     9|\n",
      "|       Daft Punk|Logged In|    Colin|     M|           52| Freeman|223.60771| paid|     Bakersfield, CA|   PUT|NextSong|1538173362000|       29|Harder Better Fas...|   200|1538352676000|Mozilla/5.0 (Wind...|    30|\n",
      "+----------------+---------+---------+------+-------------+--------+---------+-----+--------------------+------+--------+-------------+---------+--------------------+------+-------------+--------------------+------+\n",
      "only showing top 5 rows\n",
      "\n"
     ]
    }
   ],
   "source": [
    "df.show(5)"
   ]
  },
  {
   "cell_type": "code",
   "execution_count": 7,
   "metadata": {},
   "outputs": [
    {
     "name": "stdout",
     "output_type": "stream",
     "text": [
      "+------+----+---------+------+-------------+--------+------+-----+--------+------+----+------------+---------+----+------+---+---------+------+\n",
      "|artist|auth|firstName|gender|itemInSession|lastName|length|level|location|method|page|registration|sessionId|song|status| ts|userAgent|userId|\n",
      "+------+----+---------+------+-------------+--------+------+-----+--------+------+----+------------+---------+----+------+---+---------+------+\n",
      "|     0|   0|        0|     0|            0|       0|     0|    0|       0|     0|   0|           0|        0|   0|     0|  0|        0|     0|\n",
      "+------+----+---------+------+-------------+--------+------+-----+--------+------+----+------------+---------+----+------+---+---------+------+\n",
      "\n"
     ]
    }
   ],
   "source": [
    "## count of null in each column)\n",
    "df.select([count(when(isnan(c), c)).alias(c) for c in df.columns]).show()"
   ]
  },
  {
   "cell_type": "code",
   "execution_count": 8,
   "metadata": {},
   "outputs": [],
   "source": [
    "## delete rows with null userID or sessionId\n",
    "df = df.na.drop(subset=[\"userId\",\"sessionId\"])\n",
    "df = df.filter(df['userId']!='')"
   ]
  },
  {
   "cell_type": "code",
   "execution_count": 9,
   "metadata": {},
   "outputs": [
    {
     "data": {
      "text/plain": [
       "(278154, 18)"
      ]
     },
     "execution_count": 9,
     "metadata": {},
     "output_type": "execute_result"
    }
   ],
   "source": [
    "## check dataframe shape\n",
    "df.count(), len(df.columns)"
   ]
  },
  {
   "cell_type": "code",
   "execution_count": 10,
   "metadata": {},
   "outputs": [
    {
     "data": {
      "text/plain": [
       "225"
      ]
     },
     "execution_count": 10,
     "metadata": {},
     "output_type": "execute_result"
    }
   ],
   "source": [
    "## List of unique users and the number \n",
    "num_users = df.groupBy('userId').count().agg({\"count\":\"count\"})\n",
    "num_users = num_users.collect()[0][0]\n",
    "num_users"
   ]
  },
  {
   "cell_type": "code",
   "execution_count": 11,
   "metadata": {},
   "outputs": [
    {
     "data": {
      "text/plain": [
       "52"
      ]
     },
     "execution_count": 11,
     "metadata": {},
     "output_type": "execute_result"
    }
   ],
   "source": [
    "## List of unique churned users and the number \n",
    "churn_users = [x.userId for x in df.filter(F.col(\"page\").contains('Cancel')).select('userId').sort('userId').distinct().collect()]\n",
    "num_churn = len(churn_users)\n",
    "num_churn"
   ]
  },
  {
   "cell_type": "code",
   "execution_count": 12,
   "metadata": {},
   "outputs": [
    {
     "data": {
      "text/plain": [
       "173"
      ]
     },
     "execution_count": 12,
     "metadata": {},
     "output_type": "execute_result"
    }
   ],
   "source": [
    "## List of unique users who did not churn and the number \n",
    "num_non_churn = num_users - num_churn\n",
    "num_non_churn"
   ]
  },
  {
   "cell_type": "markdown",
   "metadata": {},
   "source": [
    "# Exploratory Data Analysis\n",
    "When you're working with the full dataset, perform EDA by loading a small subset of the data and doing basic manipulations within Spark. In this workspace, you are already provided a small subset of data you can explore.\n",
    "\n",
    "### Define Churn\n",
    "\n",
    "Once you've done some preliminary analysis, create a column `Churn` to use as the label for your model. I suggest using the `Cancellation Confirmation` events to define your churn, which happen for both paid and free users. As a bonus task, you can also look into the `Downgrade` events.\n",
    "\n",
    "### Explore Data\n",
    "Once you've defined churn, perform some exploratory data analysis to observe the behavior for users who stayed vs users who churned. You can start by exploring aggregates on these two groups of users, observing how much of a specific action they experienced per a certain time unit or number of songs played."
   ]
  },
  {
   "cell_type": "code",
   "execution_count": 13,
   "metadata": {
    "scrolled": false
   },
   "outputs": [
    {
     "data": {
      "text/plain": [
       "[Row(page='Cancel'),\n",
       " Row(page='Submit Downgrade'),\n",
       " Row(page='Thumbs Down'),\n",
       " Row(page='Home'),\n",
       " Row(page='Downgrade'),\n",
       " Row(page='Roll Advert'),\n",
       " Row(page='Logout'),\n",
       " Row(page='Save Settings'),\n",
       " Row(page='Cancellation Confirmation'),\n",
       " Row(page='About'),\n",
       " Row(page='Settings'),\n",
       " Row(page='Add to Playlist'),\n",
       " Row(page='Add Friend'),\n",
       " Row(page='NextSong'),\n",
       " Row(page='Thumbs Up'),\n",
       " Row(page='Help'),\n",
       " Row(page='Upgrade'),\n",
       " Row(page='Error'),\n",
       " Row(page='Submit Upgrade')]"
      ]
     },
     "execution_count": 13,
     "metadata": {},
     "output_type": "execute_result"
    }
   ],
   "source": [
    "## unique value of page column\n",
    "df.select('page').distinct().collect()"
   ]
  },
  {
   "cell_type": "code",
   "execution_count": 14,
   "metadata": {},
   "outputs": [],
   "source": [
    "##  Add label = 1 for churn, else = 0\n",
    "df = df.withColumn(\n",
    "    'label',\n",
    "    F.when((F.col(\"userId\").isin(churn_users)), 1)\n",
    "    .otherwise(0)\n",
    "    )"
   ]
  },
  {
   "cell_type": "code",
   "execution_count": 15,
   "metadata": {},
   "outputs": [
    {
     "name": "stdout",
     "output_type": "stream",
     "text": [
      "+----------------+---------+---------+------+-------------+--------+---------+-----+--------------------+------+--------+-------------+---------+--------------------+------+-------------+--------------------+------+-----+\n",
      "|          artist|     auth|firstName|gender|itemInSession|lastName|   length|level|            location|method|    page| registration|sessionId|                song|status|           ts|           userAgent|userId|label|\n",
      "+----------------+---------+---------+------+-------------+--------+---------+-----+--------------------+------+--------+-------------+---------+--------------------+------+-------------+--------------------+------+-----+\n",
      "|  Martha Tilston|Logged In|    Colin|     M|           50| Freeman|277.89016| paid|     Bakersfield, CA|   PUT|NextSong|1538173362000|       29|           Rockpools|   200|1538352117000|Mozilla/5.0 (Wind...|    30|    0|\n",
      "|Five Iron Frenzy|Logged In|    Micah|     M|           79|    Long|236.09424| free|Boston-Cambridge-...|   PUT|NextSong|1538331630000|        8|              Canada|   200|1538352180000|\"Mozilla/5.0 (Win...|     9|    0|\n",
      "|    Adam Lambert|Logged In|    Colin|     M|           51| Freeman| 282.8273| paid|     Bakersfield, CA|   PUT|NextSong|1538173362000|       29|   Time For Miracles|   200|1538352394000|Mozilla/5.0 (Wind...|    30|    0|\n",
      "|          Enigma|Logged In|    Micah|     M|           80|    Long|262.71302| free|Boston-Cambridge-...|   PUT|NextSong|1538331630000|        8|Knocking On Forbi...|   200|1538352416000|\"Mozilla/5.0 (Win...|     9|    0|\n",
      "|       Daft Punk|Logged In|    Colin|     M|           52| Freeman|223.60771| paid|     Bakersfield, CA|   PUT|NextSong|1538173362000|       29|Harder Better Fas...|   200|1538352676000|Mozilla/5.0 (Wind...|    30|    0|\n",
      "+----------------+---------+---------+------+-------------+--------+---------+-----+--------------------+------+--------+-------------+---------+--------------------+------+-------------+--------------------+------+-----+\n",
      "only showing top 5 rows\n",
      "\n"
     ]
    }
   ],
   "source": [
    "df.show(5)"
   ]
  },
  {
   "cell_type": "code",
   "execution_count": 16,
   "metadata": {
    "scrolled": true
   },
   "outputs": [
    {
     "name": "stdout",
     "output_type": "stream",
     "text": [
      "+-------------+---------+---------+------+-------------+--------+---------+-----+--------------------+------+---------+-------------+---------+--------------------+------+-------------+--------------------+------+-----+\n",
      "|       artist|     auth|firstName|gender|itemInSession|lastName|   length|level|            location|method|     page| registration|sessionId|                song|status|           ts|           userAgent|userId|label|\n",
      "+-------------+---------+---------+------+-------------+--------+---------+-----+--------------------+------+---------+-------------+---------+--------------------+------+-------------+--------------------+------+-----+\n",
      "|        Modjo|Logged In|    Alexi|     F|            0|  Warren|250.93179| paid|Spokane-Spokane V...|   PUT| NextSong|1532482662000|       53|         What I Mean|   200|1538353930000|Mozilla/5.0 (Wind...|    54|    1|\n",
      "|Edwyn Collins|Logged In|    Alexi|     F|            1|  Warren|  216.842| paid|Spokane-Spokane V...|   PUT| NextSong|1532482662000|       53|You'll Never Know...|   200|1538354180000|Mozilla/5.0 (Wind...|    54|    1|\n",
      "|     Coldplay|Logged In|    Alexi|     F|            2|  Warren|343.32689| paid|Spokane-Spokane V...|   PUT| NextSong|1532482662000|       53|             For You|   200|1538354396000|Mozilla/5.0 (Wind...|    54|    1|\n",
      "|          Kix|Logged In|    Alexi|     F|            3|  Warren|246.25587| paid|Spokane-Spokane V...|   PUT| NextSong|1532482662000|       53|          Girl Money|   200|1538354739000|Mozilla/5.0 (Wind...|    54|    1|\n",
      "|         null|Logged In|    Alexi|     F|            4|  Warren|     null| paid|Spokane-Spokane V...|   GET|Downgrade|1532482662000|       53|                null|   200|1538354749000|Mozilla/5.0 (Wind...|    54|    1|\n",
      "+-------------+---------+---------+------+-------------+--------+---------+-----+--------------------+------+---------+-------------+---------+--------------------+------+-------------+--------------------+------+-----+\n",
      "only showing top 5 rows\n",
      "\n"
     ]
    }
   ],
   "source": [
    "## Verify the data\n",
    "df.filter(df.label==1).show(5)"
   ]
  },
  {
   "cell_type": "code",
   "execution_count": 17,
   "metadata": {},
   "outputs": [
    {
     "name": "stdout",
     "output_type": "stream",
     "text": [
      "+------+-----+------------+\n",
      "|userId|label|count(label)|\n",
      "+------+-----+------------+\n",
      "|    10|    0|         795|\n",
      "|   100|    0|        3214|\n",
      "|100001|    1|         187|\n",
      "|100002|    0|         218|\n",
      "|100003|    1|          78|\n",
      "|100004|    0|        1245|\n",
      "|100005|    1|         216|\n",
      "|100006|    1|          44|\n",
      "|100007|    1|         520|\n",
      "|100008|    0|         940|\n",
      "|100009|    1|         671|\n",
      "|100010|    0|         381|\n",
      "|100011|    1|          23|\n",
      "|100012|    1|         600|\n",
      "|100013|    1|        1392|\n",
      "|100014|    1|         310|\n",
      "|100015|    1|        1050|\n",
      "|100016|    0|         638|\n",
      "|100017|    1|          75|\n",
      "|100018|    0|        1288|\n",
      "+------+-----+------------+\n",
      "only showing top 20 rows\n",
      "\n"
     ]
    }
   ],
   "source": [
    "# Verify the data further\n",
    "df.groupby(['userId', 'label']).agg(count('label')).sort('userId').show()"
   ]
  },
  {
   "cell_type": "code",
   "execution_count": 18,
   "metadata": {},
   "outputs": [
    {
     "name": "stdout",
     "output_type": "stream",
     "text": [
      "44864\n",
      "233290\n"
     ]
    }
   ],
   "source": [
    "## Count of rows for each churned and non-churned users\n",
    "df_churn = df.filter(col('label')==1)\n",
    "df_non_churn = df.filter(col('label')==0)\n",
    "\n",
    "print(df_churn.count())\n",
    "print(df_non_churn.count())"
   ]
  },
  {
   "cell_type": "code",
   "execution_count": 19,
   "metadata": {},
   "outputs": [
    {
     "name": "stdout",
     "output_type": "stream",
     "text": [
      "+--------------------+-----+\n",
      "|                page|count|\n",
      "+--------------------+-----+\n",
      "|              Cancel|   52|\n",
      "|    Submit Downgrade|    9|\n",
      "|         Thumbs Down|  496|\n",
      "|                Home| 1672|\n",
      "|           Downgrade|  337|\n",
      "|         Roll Advert|  967|\n",
      "|              Logout|  553|\n",
      "|       Save Settings|   58|\n",
      "|Cancellation Conf...|   52|\n",
      "|               About|   56|\n",
      "|            Settings|  270|\n",
      "|     Add to Playlist| 1038|\n",
      "|          Add Friend|  636|\n",
      "|            NextSong|36394|\n",
      "|           Thumbs Up| 1859|\n",
      "|                Help|  239|\n",
      "|             Upgrade|  112|\n",
      "|               Error|   32|\n",
      "|      Submit Upgrade|   32|\n",
      "+--------------------+-----+\n",
      "\n"
     ]
    }
   ],
   "source": [
    "## Count of page for canceled users\n",
    "df_churn.groupby(['page']).count().show()"
   ]
  },
  {
   "cell_type": "code",
   "execution_count": 20,
   "metadata": {},
   "outputs": [
    {
     "name": "stdout",
     "output_type": "stream",
     "text": [
      "+--------------------+-------------------+\n",
      "|                page| (count(page) / 52)|\n",
      "+--------------------+-------------------+\n",
      "|              Cancel|                1.0|\n",
      "|    Submit Downgrade|0.17307692307692307|\n",
      "|         Thumbs Down|  9.538461538461538|\n",
      "|                Home|  32.15384615384615|\n",
      "|           Downgrade|  6.480769230769231|\n",
      "|         Roll Advert| 18.596153846153847|\n",
      "|              Logout| 10.634615384615385|\n",
      "|       Save Settings| 1.1153846153846154|\n",
      "|Cancellation Conf...|                1.0|\n",
      "|               About| 1.0769230769230769|\n",
      "|            Settings| 5.1923076923076925|\n",
      "|     Add to Playlist|  19.96153846153846|\n",
      "|          Add Friend|  12.23076923076923|\n",
      "|            NextSong|  699.8846153846154|\n",
      "|           Thumbs Up|              35.75|\n",
      "|                Help|  4.596153846153846|\n",
      "|             Upgrade| 2.1538461538461537|\n",
      "|               Error| 0.6153846153846154|\n",
      "|      Submit Upgrade| 0.6153846153846154|\n",
      "+--------------------+-------------------+\n",
      "\n"
     ]
    }
   ],
   "source": [
    "## Average times the churned users visited each page\n",
    "df_churn.groupby(['page']).agg(F.count('page') / num_churn).show()"
   ]
  },
  {
   "cell_type": "code",
   "execution_count": 21,
   "metadata": {},
   "outputs": [
    {
     "name": "stdout",
     "output_type": "stream",
     "text": [
      "                           Non-Churned     Churned\n",
      "Submit Downgrade              0.312139    0.173077\n",
      "Thumbs Down                  11.849711    9.538462\n",
      "Home                         48.612717   32.153846\n",
      "Downgrade                     9.930636    6.480769\n",
      "Roll Advert                  17.144509   18.596154\n",
      "Logout                       15.450867   10.634615\n",
      "Save Settings                 1.456647    1.115385\n",
      "About                         2.537572    1.076923\n",
      "Settings                      7.190751    5.192308\n",
      "Add to Playlist              31.722543   19.961538\n",
      "Add Friend                   21.046243   12.230769\n",
      "NextSong                   1108.173410  699.884615\n",
      "Thumbs Up                    61.803468   35.750000\n",
      "Help                          7.023121    4.596154\n",
      "Upgrade                       2.236994    2.153846\n",
      "Error                         1.271676    0.615385\n",
      "Submit Upgrade                0.734104    0.615385\n",
      "Cancel                        0.000000    1.000000\n",
      "Cancellation Confirmation     0.000000    1.000000\n"
     ]
    },
    {
     "data": {
      "text/plain": [
       "<matplotlib.axes._subplots.AxesSubplot at 0x7f2a527fe160>"
      ]
     },
     "execution_count": 21,
     "metadata": {},
     "output_type": "execute_result"
    },
    {
     "data": {
      "image/png": "[encoded data removed]",
      "text/plain": [
       "<matplotlib.figure.Figure at 0x7f2a878e3400>"
      ]
     },
     "metadata": {
      "needs_background": "light"
     },
     "output_type": "display_data"
    }
   ],
   "source": [
    "## Avg. page activities for all other users\n",
    "non_churn_page_avg = df_non_churn.groupby(['page']).agg(F.count('page') / num_non_churn)\n",
    "\n",
    "## Avg. page activities for canceled users\n",
    "churn_page_avg = df_churn.groupby(['page']).agg(F.count('page') / num_churn)\n",
    "\n",
    "## Merge two dataframes to plot a grouped bar graph\n",
    "graph_df = pd.concat([non_churn_page_avg.toPandas().set_index('page'), churn_page_avg.toPandas().set_index('page')], axis=1, sort=False).fillna(0)\n",
    "graph_df.columns = ['Non-Churned','Churned']\n",
    "\n",
    "## Plot a bar graph to show the churn and non-churn users page activities\n",
    "print(graph_df)\n",
    "graph_df.plot.barh(figsize=(10,8), colormap='summer')"
   ]
  },
  {
   "cell_type": "code",
   "execution_count": 22,
   "metadata": {},
   "outputs": [
    {
     "name": "stdout",
     "output_type": "stream",
     "text": [
      "+------+-------------------+\n",
      "|gender|count(count(label))|\n",
      "+------+-------------------+\n",
      "|     F|                 84|\n",
      "|     M|                 89|\n",
      "+------+-------------------+\n",
      "\n"
     ]
    }
   ],
   "source": [
    "## preview the female and male counts for non-churn users\n",
    "df_non_churn.groupby([\"gender\",\"userId\"]).agg({\"label\":\"count\"}).groupby(\"gender\").agg({\"count(label)\":\"count\"}).show()"
   ]
  },
  {
   "cell_type": "code",
   "execution_count": 23,
   "metadata": {},
   "outputs": [
    {
     "name": "stdout",
     "output_type": "stream",
     "text": [
      "+------+---------------------------+\n",
      "|gender|(count(count(label)) / 173)|\n",
      "+------+---------------------------+\n",
      "|     F|        0.48554913294797686|\n",
      "|     M|         0.5144508670520231|\n",
      "+------+---------------------------+\n",
      "\n"
     ]
    }
   ],
   "source": [
    "## Preview the female/male ratio for non-churn users \n",
    "df_non_churn.groupby([\"gender\",\"userId\"]).agg({\"label\":\"count\"}).groupby(\"gender\").agg(F.count(\"count(label)\") / num_non_churn).show()"
   ]
  },
  {
   "cell_type": "code",
   "execution_count": 24,
   "metadata": {},
   "outputs": [
    {
     "name": "stdout",
     "output_type": "stream",
     "text": [
      "+------+--------------------------+\n",
      "|gender|(count(count(label)) / 52)|\n",
      "+------+--------------------------+\n",
      "|     F|       0.38461538461538464|\n",
      "|     M|        0.6153846153846154|\n",
      "+------+--------------------------+\n",
      "\n"
     ]
    }
   ],
   "source": [
    "## Preview the female/male ratio for churn users \n",
    "df_churn.groupby([\"gender\",\"userId\"]).agg({\"label\":\"count\"}).groupby(\"gender\").agg(F.count(\"count(label)\") / num_churn).show()"
   ]
  },
  {
   "cell_type": "code",
   "execution_count": 25,
   "metadata": {},
   "outputs": [
    {
     "data": {
      "text/plain": [
       "<matplotlib.axes._subplots.AxesSubplot at 0x7f2a50540a90>"
      ]
     },
     "execution_count": 25,
     "metadata": {},
     "output_type": "execute_result"
    },
    {
     "data": {
      "image/png": "[encoded data removed]",
      "text/plain": [
       "<matplotlib.figure.Figure at 0x7f2a507bbe48>"
      ]
     },
     "metadata": {
      "needs_background": "light"
     },
     "output_type": "display_data"
    }
   ],
   "source": [
    "## Percentage of Male and Female in each Churn / Non-Churn group\n",
    "df_gender_pct = df_non_churn.groupby([\"gender\",\"userId\"]).agg({\"label\":\"count\"}).groupby(\"gender\").agg(F.count(\"count(label)\") / num_non_churn)     \n",
    "df_gender_churn_pct = df_churn.groupby([\"gender\",\"userId\"]).agg({\"label\":\"count\"}).groupby(\"gender\").agg(F.count(\"count(label)\") / num_churn)\n",
    "graph_gender_pct_df = pd.concat([df_gender_pct.toPandas().set_index('gender'), df_gender_churn_pct.toPandas().set_index('gender')], axis=1, sort=False).fillna(0)\n",
    "graph_gender_pct_df.columns = ['Non-Churned','Churned']\n",
    "## Plot a bar graph for churn rate by gender\n",
    "graph_gender_pct_df.plot.bar(figsize=(8,4), rot=0, colormap='summer')"
   ]
  },
  {
   "cell_type": "code",
   "execution_count": 26,
   "metadata": {},
   "outputs": [
    {
     "data": {
      "text/plain": [
       "<matplotlib.axes._subplots.AxesSubplot at 0x7f2a50673a58>"
      ]
     },
     "execution_count": 26,
     "metadata": {},
     "output_type": "execute_result"
    },
    {
     "data": {
      "image/png": "[encoded data removed]",
      "text/plain": [
       "<matplotlib.figure.Figure at 0x7f2a5053b748>"
      ]
     },
     "metadata": {
      "needs_background": "light"
     },
     "output_type": "display_data"
    }
   ],
   "source": [
    "## paid vs free.  Users who upgraded from free to paid will be counted as paid\n",
    "df_level = df_non_churn.groupby([\"level\",\"userId\"]).agg({\"label\":\"count\"}).sort(col(\"userId\").asc(),col(\"level\").desc()).dropDuplicates(subset = ['userId']).groupby(\"level\").agg(F.count(\"count(label)\") / num_non_churn)\n",
    "df_level_churn = df_churn.groupby([\"level\",\"userId\"]).agg({\"label\":\"count\"}).sort(col(\"userId\").asc(),col(\"level\").desc()).dropDuplicates(subset = ['userId']).groupby(\"level\").agg(F.count(\"count(label)\") / num_churn)\n",
    "graph_level_df = pd.concat([df_level.toPandas().set_index('level'), df_level_churn.toPandas().set_index('level')], axis=1, sort=False).fillna(0)\n",
    "graph_level_df.columns = ['Non-Churned','Churned']\n",
    "## Plot a bar graph for churn rate by level (paid/free)\n",
    "graph_level_df.plot.bar(figsize=(8,4), rot=0, colormap='summer')"
   ]
  },
  {
   "cell_type": "code",
   "execution_count": 28,
   "metadata": {},
   "outputs": [
    {
     "name": "stdout",
     "output_type": "stream",
     "text": [
      "+------+---------+-----------+\n",
      "|userId|sessionId|count(page)|\n",
      "+------+---------+-----------+\n",
      "|   101|      635|        855|\n",
      "|   122|      691|          9|\n",
      "|    29|     1030|         19|\n",
      "|    53|     1306|        182|\n",
      "|100013|       13|         52|\n",
      "|200021|      181|        207|\n",
      "|   101|      496|        423|\n",
      "|    54|     1308|         20|\n",
      "|    70|     1385|         16|\n",
      "|100009|      126|         75|\n",
      "|300001|      366|         30|\n",
      "|    12|      379|        240|\n",
      "|     3|      374|         48|\n",
      "|100023|      109|         14|\n",
      "|100014|       98|         93|\n",
      "|    17|      590|         13|\n",
      "|    51|      737|        456|\n",
      "|    12|     1072|         68|\n",
      "|100021|       21|         14|\n",
      "|    87|      300|         50|\n",
      "+------+---------+-----------+\n",
      "only showing top 20 rows\n",
      "\n"
     ]
    }
   ],
   "source": [
    "## Preview the count of page activities per session ID for each user\n",
    "df_churn.groupBy('userId','sessionId').agg({\"page\":\"count\"}).show()"
   ]
  },
  {
   "cell_type": "code",
   "execution_count": 29,
   "metadata": {},
   "outputs": [
    {
     "data": {
      "text/plain": [
       "[Text(0,0,'Avg. Count of Pages Per Session')]"
      ]
     },
     "execution_count": 29,
     "metadata": {},
     "output_type": "execute_result"
    },
    {
     "data": {
      "image/png": "[encoded data removed]",
      "text/plain": [
       "<matplotlib.figure.Figure at 0x7f2a50698668>"
      ]
     },
     "metadata": {
      "needs_background": "light"
     },
     "output_type": "display_data"
    }
   ],
   "source": [
    "## Average number of activities (pages) in each session for Churn / Non-Churn group\n",
    "df_avg_session = df.groupBy('label','sessionId').agg({\"page\":\"count\"}).groupby('label').agg(F.sum(\"count(page)\") / F.count('sessionId')).toPandas().pivot_table(values='(sum(count(page)) / count(sessionId))', columns='label', aggfunc='first')\n",
    "df_avg_session.columns = ['Non-Churned','Churned']\n",
    "\n",
    "## Plot the average count of page activities for churn and non-churn users\n",
    "ax = df_avg_session.plot.bar(figsize=(8,4), rot=0, colormap='summer')\n",
    "ax.set_xticklabels(['Avg. Count of Pages Per Session'])"
   ]
  },
  {
   "cell_type": "markdown",
   "metadata": {},
   "source": [
    "# Feature Engineering\n",
    "Once you've familiarized yourself with the data, build out the features you find promising to train your model on. To work with the full dataset, you can follow the following steps.\n",
    "- Write a script to extract the necessary features from the smaller subset of data\n",
    "- Ensure that your script is scalable, using the best practices discussed in Lesson 3\n",
    "- Try your script on the full data set, debugging your script if necessary\n",
    "\n",
    "If you are working in the classroom workspace, you can just extract features based on the small subset of data contained here. Be sure to transfer over this work to the larger dataset when you work on your Spark cluster."
   ]
  },
  {
   "cell_type": "code",
   "execution_count": 31,
   "metadata": {},
   "outputs": [
    {
     "name": "stdout",
     "output_type": "stream",
     "text": [
      "+------+---------------+-----------+\n",
      "|userId|           page|count(page)|\n",
      "+------+---------------+-----------+\n",
      "|    10|      Downgrade|          7|\n",
      "|    10|           Help|          1|\n",
      "|    10|       Settings|          7|\n",
      "|    10|    Roll Advert|          1|\n",
      "|    10|    Thumbs Down|          4|\n",
      "|    10|Add to Playlist|          9|\n",
      "|    10|      Thumbs Up|         37|\n",
      "|    10|       NextSong|        673|\n",
      "|    10|  Save Settings|          1|\n",
      "|    10|          About|          2|\n",
      "|    10|           Home|         30|\n",
      "|    10|         Logout|         11|\n",
      "|    10|     Add Friend|         12|\n",
      "|   100|        Upgrade|          1|\n",
      "|   100|     Add Friend|         49|\n",
      "|   100|    Roll Advert|         25|\n",
      "|   100|    Thumbs Down|         27|\n",
      "|   100|           Help|         18|\n",
      "|   100| Submit Upgrade|          1|\n",
      "|   100|Add to Playlist|         61|\n",
      "+------+---------------+-----------+\n",
      "only showing top 20 rows\n",
      "\n"
     ]
    }
   ],
   "source": [
    "## The visit count for each page for each user\n",
    "df.groupby('userId','page').agg(count('page')).sort('userId').show()    #.pivot('page').agg(count('page')).show()"
   ]
  },
  {
   "cell_type": "code",
   "execution_count": 32,
   "metadata": {},
   "outputs": [
    {
     "data": {
      "text/plain": [
       "225"
      ]
     },
     "execution_count": 32,
     "metadata": {},
     "output_type": "execute_result"
    }
   ],
   "source": [
    "## Pivot the previous dataframe by the page columne\n",
    "feature_df = df.groupby('userId','page').agg(count('page')).groupby('userId').pivot('page').agg(F.sum(\"count(page)\")).sort('userId').fillna(0)\n",
    "\n",
    "## Convert gender info to binary and add to feature_df\n",
    "temp_df = df.groupby(['userId', 'gender']).agg(count('gender')).sort('userId').select('userId','gender')\n",
    "temp_df = temp_df.withColumn(\"gender_bin\", F.when((F.col(\"gender\") == \"M\"), 0).otherwise(1)).select('userId','gender_bin')\n",
    "feature_df = feature_df.join(temp_df, ['userId'])\n",
    "\n",
    "## Convert level info to binary and add to feature_df\n",
    "temp_df = df.groupby([\"level\",\"userId\"]).agg({\"label\":\"count\"}).sort(col(\"userId\").asc(),col(\"level\").desc()).dropDuplicates(subset = ['userId']).select('userId','level')  #.groupby(\"level\").agg(F.count(\"count(label)\") / num_users)\n",
    "temp_df = temp_df.withColumn(\"level_bin\", F.when((F.col(\"level\") == \"paid\"), 1).otherwise(0)).select('userId','level_bin')\n",
    "feature_df = feature_df.join(temp_df, ['userId'])\n",
    "\n",
    "## Add Avg count of pages per session\n",
    "temp_df = df.groupBy('userId','sessionId').agg({\"page\":\"count\"}).groupby('userId').agg((F.sum(\"count(page)\") / F.count('sessionId')).alias('avg_page_per_session')).sort('userId')\n",
    "feature_df = feature_df.join(temp_df, ['userId'])\n",
    "\n",
    "## Lastly, add label\n",
    "temp_df = df.groupby(['userId', 'label']).agg(count('label')).sort('userId').select('userId','label')\n",
    "feature_df = feature_df.join(temp_df, ['userId'])\n",
    "\n",
    "## Delete Cancel pages \n",
    "feature_df = feature_df.drop('Cancel','Cancellation Confirmation','Error')\n",
    "\n",
    "## Verify the number of unique users stayed the same after the table manipulation\n",
    "feature_df.count()"
   ]
  },
  {
   "cell_type": "code",
   "execution_count": 33,
   "metadata": {},
   "outputs": [
    {
     "name": "stdout",
     "output_type": "stream",
     "text": [
      "+------+-----+----------+---------------+---------+----+----+------+--------+-----------+-------------+--------+----------------+--------------+-----------+---------+-------+----------+---------+--------------------+-----+\n",
      "|userId|About|Add Friend|Add to Playlist|Downgrade|Help|Home|Logout|NextSong|Roll Advert|Save Settings|Settings|Submit Downgrade|Submit Upgrade|Thumbs Down|Thumbs Up|Upgrade|gender_bin|level_bin|avg_page_per_session|label|\n",
      "+------+-----+----------+---------------+---------+----+----+------+--------+-----------+-------------+--------+----------------+--------------+-----------+---------+-------+----------+---------+--------------------+-----+\n",
      "|    10|    2|        12|              9|        7|   1|  30|    11|     673|          1|            1|       7|               0|             0|          4|       37|      0|         0|        1|               132.5|    0|\n",
      "|   100|   12|        49|             61|       30|  18| 105|    35|    2682|         25|            5|      11|               1|             1|         27|      148|      1|         0|        1|   91.82857142857142|    0|\n",
      "|100001|    0|         2|              3|        0|   1|  11|     7|     133|         14|            0|       1|               0|             0|          2|        8|      2|         1|        0|               46.75|    1|\n",
      "|100002|    0|         1|              5|        2|   0|   6|     1|     195|          3|            0|       0|               0|             0|          0|        5|      0|         1|        1|                54.5|    0|\n",
      "|100003|    0|         0|              2|        0|   1|   7|     3|      51|          9|            0|       0|               0|             0|          0|        3|      0|         1|        0|                39.0|    1|\n",
      "+------+-----+----------+---------------+---------+----+----+------+--------+-----------+-------------+--------+----------------+--------------+-----------+---------+-------+----------+---------+--------------------+-----+\n",
      "only showing top 5 rows\n",
      "\n"
     ]
    }
   ],
   "source": [
    "## Verify the data still looks good\n",
    "feature_df.show(5)"
   ]
  },
  {
   "cell_type": "code",
   "execution_count": 34,
   "metadata": {},
   "outputs": [
    {
     "name": "stdout",
     "output_type": "stream",
     "text": [
      "root\n",
      " |-- userId: string (nullable = true)\n",
      " |-- About: long (nullable = true)\n",
      " |-- Add Friend: long (nullable = true)\n",
      " |-- Add to Playlist: long (nullable = true)\n",
      " |-- Downgrade: long (nullable = true)\n",
      " |-- Help: long (nullable = true)\n",
      " |-- Home: long (nullable = true)\n",
      " |-- Logout: long (nullable = true)\n",
      " |-- NextSong: long (nullable = true)\n",
      " |-- Roll Advert: long (nullable = true)\n",
      " |-- Save Settings: long (nullable = true)\n",
      " |-- Settings: long (nullable = true)\n",
      " |-- Submit Downgrade: long (nullable = true)\n",
      " |-- Submit Upgrade: long (nullable = true)\n",
      " |-- Thumbs Down: long (nullable = true)\n",
      " |-- Thumbs Up: long (nullable = true)\n",
      " |-- Upgrade: long (nullable = true)\n",
      " |-- gender_bin: integer (nullable = false)\n",
      " |-- level_bin: integer (nullable = false)\n",
      " |-- avg_page_per_session: double (nullable = true)\n",
      " |-- label: integer (nullable = false)\n",
      "\n"
     ]
    }
   ],
   "source": [
    "## Verify the schema still looks good\n",
    "feature_df.printSchema()"
   ]
  },
  {
   "cell_type": "code",
   "execution_count": 37,
   "metadata": {},
   "outputs": [
    {
     "data": {
      "text/html": [
       "<div>\n",
       "<style scoped>\n",
       "    .dataframe tbody tr th:only-of-type {\n",
       "        vertical-align: middle;\n",
       "    }\n",
       "\n",
       "    .dataframe tbody tr th {\n",
       "        vertical-align: top;\n",
       "    }\n",
       "\n",
       "    .dataframe thead th {\n",
       "        text-align: right;\n",
       "    }\n",
       "</style>\n",
       "<table border=\"1\" class=\"dataframe\">\n",
       "  <thead>\n",
       "    <tr style=\"text-align: right;\">\n",
       "      <th></th>\n",
       "      <th>0</th>\n",
       "      <th>1</th>\n",
       "      <th>2</th>\n",
       "      <th>3</th>\n",
       "      <th>4</th>\n",
       "    </tr>\n",
       "  </thead>\n",
       "  <tbody>\n",
       "    <tr>\n",
       "      <th>summary</th>\n",
       "      <td>count</td>\n",
       "      <td>mean</td>\n",
       "      <td>stddev</td>\n",
       "      <td>min</td>\n",
       "      <td>max</td>\n",
       "    </tr>\n",
       "    <tr>\n",
       "      <th>About</th>\n",
       "      <td>225</td>\n",
       "      <td>2.2</td>\n",
       "      <td>3.119638257417493</td>\n",
       "      <td>0</td>\n",
       "      <td>25</td>\n",
       "    </tr>\n",
       "    <tr>\n",
       "      <th>Add Friend</th>\n",
       "      <td>225</td>\n",
       "      <td>19.00888888888889</td>\n",
       "      <td>20.581716728496275</td>\n",
       "      <td>0</td>\n",
       "      <td>143</td>\n",
       "    </tr>\n",
       "    <tr>\n",
       "      <th>Add to Playlist</th>\n",
       "      <td>225</td>\n",
       "      <td>29.004444444444445</td>\n",
       "      <td>32.716653931055426</td>\n",
       "      <td>0</td>\n",
       "      <td>240</td>\n",
       "    </tr>\n",
       "    <tr>\n",
       "      <th>Help</th>\n",
       "      <td>225</td>\n",
       "      <td>6.4622222222222225</td>\n",
       "      <td>7.242585151901197</td>\n",
       "      <td>0</td>\n",
       "      <td>46</td>\n",
       "    </tr>\n",
       "    <tr>\n",
       "      <th>NextSong</th>\n",
       "      <td>225</td>\n",
       "      <td>1013.8133333333334</td>\n",
       "      <td>1104.9607785540882</td>\n",
       "      <td>3</td>\n",
       "      <td>8002</td>\n",
       "    </tr>\n",
       "    <tr>\n",
       "      <th>Roll Advert</th>\n",
       "      <td>225</td>\n",
       "      <td>17.48</td>\n",
       "      <td>21.550207158434194</td>\n",
       "      <td>0</td>\n",
       "      <td>128</td>\n",
       "    </tr>\n",
       "    <tr>\n",
       "      <th>Save Settings</th>\n",
       "      <td>225</td>\n",
       "      <td>1.3777777777777778</td>\n",
       "      <td>1.7357698077212957</td>\n",
       "      <td>0</td>\n",
       "      <td>10</td>\n",
       "    </tr>\n",
       "    <tr>\n",
       "      <th>Settings</th>\n",
       "      <td>225</td>\n",
       "      <td>6.728888888888889</td>\n",
       "      <td>6.9835464224791</td>\n",
       "      <td>0</td>\n",
       "      <td>52</td>\n",
       "    </tr>\n",
       "    <tr>\n",
       "      <th>Submit Downgrade</th>\n",
       "      <td>225</td>\n",
       "      <td>0.28</td>\n",
       "      <td>0.5876709477736183</td>\n",
       "      <td>0</td>\n",
       "      <td>3</td>\n",
       "    </tr>\n",
       "    <tr>\n",
       "      <th>Submit Upgrade</th>\n",
       "      <td>225</td>\n",
       "      <td>0.7066666666666667</td>\n",
       "      <td>0.7338742593737898</td>\n",
       "      <td>0</td>\n",
       "      <td>4</td>\n",
       "    </tr>\n",
       "    <tr>\n",
       "      <th>Thumbs Down</th>\n",
       "      <td>225</td>\n",
       "      <td>11.315555555555555</td>\n",
       "      <td>13.077481251105501</td>\n",
       "      <td>0</td>\n",
       "      <td>75</td>\n",
       "    </tr>\n",
       "    <tr>\n",
       "      <th>Thumbs Up</th>\n",
       "      <td>225</td>\n",
       "      <td>55.782222222222224</td>\n",
       "      <td>65.47792460907043</td>\n",
       "      <td>0</td>\n",
       "      <td>437</td>\n",
       "    </tr>\n",
       "    <tr>\n",
       "      <th>gender_bin</th>\n",
       "      <td>225</td>\n",
       "      <td>0.4622222222222222</td>\n",
       "      <td>0.49968243883744773</td>\n",
       "      <td>0</td>\n",
       "      <td>1</td>\n",
       "    </tr>\n",
       "    <tr>\n",
       "      <th>level_bin</th>\n",
       "      <td>225</td>\n",
       "      <td>0.7333333333333333</td>\n",
       "      <td>0.44320263021395917</td>\n",
       "      <td>0</td>\n",
       "      <td>1</td>\n",
       "    </tr>\n",
       "    <tr>\n",
       "      <th>avg_page_per_session</th>\n",
       "      <td>225</td>\n",
       "      <td>84.82778548832702</td>\n",
       "      <td>49.07225549935792</td>\n",
       "      <td>6.0</td>\n",
       "      <td>334.8888888888889</td>\n",
       "    </tr>\n",
       "    <tr>\n",
       "      <th>Downgrade</th>\n",
       "      <td>225</td>\n",
       "      <td>9.133333333333333</td>\n",
       "      <td>11.734412152785012</td>\n",
       "      <td>0</td>\n",
       "      <td>73</td>\n",
       "    </tr>\n",
       "    <tr>\n",
       "      <th>Upgrade</th>\n",
       "      <td>225</td>\n",
       "      <td>2.2177777777777776</td>\n",
       "      <td>2.5585369082956606</td>\n",
       "      <td>0</td>\n",
       "      <td>15</td>\n",
       "    </tr>\n",
       "    <tr>\n",
       "      <th>Home</th>\n",
       "      <td>225</td>\n",
       "      <td>44.80888888888889</td>\n",
       "      <td>47.29612177463005</td>\n",
       "      <td>0</td>\n",
       "      <td>355</td>\n",
       "    </tr>\n",
       "    <tr>\n",
       "      <th>Logout</th>\n",
       "      <td>225</td>\n",
       "      <td>14.337777777777777</td>\n",
       "      <td>15.346347996360462</td>\n",
       "      <td>0</td>\n",
       "      <td>124</td>\n",
       "    </tr>\n",
       "  </tbody>\n",
       "</table>\n",
       "</div>"
      ],
      "text/plain": [
       "                          0                   1                    2    3  \\\n",
       "summary               count                mean               stddev  min   \n",
       "About                   225                 2.2    3.119638257417493    0   \n",
       "Add Friend              225   19.00888888888889   20.581716728496275    0   \n",
       "Add to Playlist         225  29.004444444444445   32.716653931055426    0   \n",
       "Help                    225  6.4622222222222225    7.242585151901197    0   \n",
       "NextSong                225  1013.8133333333334   1104.9607785540882    3   \n",
       "Roll Advert             225               17.48   21.550207158434194    0   \n",
       "Save Settings           225  1.3777777777777778   1.7357698077212957    0   \n",
       "Settings                225   6.728888888888889      6.9835464224791    0   \n",
       "Submit Downgrade        225                0.28   0.5876709477736183    0   \n",
       "Submit Upgrade          225  0.7066666666666667   0.7338742593737898    0   \n",
       "Thumbs Down             225  11.315555555555555   13.077481251105501    0   \n",
       "Thumbs Up               225  55.782222222222224    65.47792460907043    0   \n",
       "gender_bin              225  0.4622222222222222  0.49968243883744773    0   \n",
       "level_bin               225  0.7333333333333333  0.44320263021395917    0   \n",
       "avg_page_per_session    225   84.82778548832702    49.07225549935792  6.0   \n",
       "Downgrade               225   9.133333333333333   11.734412152785012    0   \n",
       "Upgrade                 225  2.2177777777777776   2.5585369082956606    0   \n",
       "Home                    225   44.80888888888889    47.29612177463005    0   \n",
       "Logout                  225  14.337777777777777   15.346347996360462    0   \n",
       "\n",
       "                                      4  \n",
       "summary                             max  \n",
       "About                                25  \n",
       "Add Friend                          143  \n",
       "Add to Playlist                     240  \n",
       "Help                                 46  \n",
       "NextSong                           8002  \n",
       "Roll Advert                         128  \n",
       "Save Settings                        10  \n",
       "Settings                             52  \n",
       "Submit Downgrade                      3  \n",
       "Submit Upgrade                        4  \n",
       "Thumbs Down                          75  \n",
       "Thumbs Up                           437  \n",
       "gender_bin                            1  \n",
       "level_bin                             1  \n",
       "avg_page_per_session  334.8888888888889  \n",
       "Downgrade                            73  \n",
       "Upgrade                              15  \n",
       "Home                                355  \n",
       "Logout                              124  "
      ]
     },
     "execution_count": 37,
     "metadata": {},
     "output_type": "execute_result"
    }
   ],
   "source": [
    "numeric_features = [ 'About', 'Add Friend', 'Add to Playlist', 'Help', 'NextSong',\\\n",
    "                     'Roll Advert', 'Save Settings', 'Settings', 'Submit Downgrade', 'Submit Upgrade', 'Thumbs Down',\\\n",
    "                     'Thumbs Up', 'gender_bin', 'level_bin', 'avg_page_per_session', 'Downgrade', 'Upgrade', 'Home', 'Logout']   ## 'Error', \n",
    "\n",
    "## Check the statistics of the features to be used\n",
    "feature_df.select(numeric_features).describe().toPandas().transpose()"
   ]
  },
  {
   "cell_type": "code",
   "execution_count": 39,
   "metadata": {},
   "outputs": [
    {
     "data": {
      "text/plain": [
       "<matplotlib.axes._subplots.AxesSubplot at 0x7f2a505d1c88>"
      ]
     },
     "execution_count": 39,
     "metadata": {},
     "output_type": "execute_result"
    },
    {
     "data": {
      "image/png": "[encoded data removed]",
      "text/plain": [
       "<matplotlib.figure.Figure at 0x7f2a5056e2e8>"
      ]
     },
     "metadata": {
      "needs_background": "light"
     },
     "output_type": "display_data"
    }
   ],
   "source": [
    "## Check the correlation between all features\n",
    "corr = feature_df[numeric_features].toPandas().corr()\n",
    "## Display a heatmap to show the correlation\n",
    "fig, ax = plt.subplots(figsize=(9,7)) \n",
    "sns.heatmap(corr, xticklabels=corr.columns, yticklabels=corr.columns,ax=ax)"
   ]
  },
  {
   "cell_type": "markdown",
   "metadata": {},
   "source": [
    "# Modeling\n",
    "Split the full dataset into train, test, and validation sets. Test out several of the machine learning methods you learned. Evaluate the accuracy of the various models, tuning parameters as necessary. Determine your winning model based on test accuracy and report results on the validation set. Since the churned users are a fairly small subset, I suggest using F1 score as the metric to optimize."
   ]
  },
  {
   "cell_type": "code",
   "execution_count": 40,
   "metadata": {},
   "outputs": [],
   "source": [
    "## Create transformer and assembler\n",
    "# encoder = OneHotEncoder(inputCols=[\"gender\", \"level\"], outputCols=[\"gender_oh\", \"level_oh\"])\n",
    "assembler = VectorAssembler(inputCols=numeric_features, outputCol=\"features\")\n",
    "scaler = StandardScaler(inputCol=\"features\", outputCol=\"scaledFeatures\", withStd=True, withMean=False)\n",
    "\n",
    "# scaler = Normalizer(inputCol=\"features\", outputCol=\"normedFeatures\")"
   ]
  },
  {
   "cell_type": "code",
   "execution_count": 41,
   "metadata": {},
   "outputs": [
    {
     "name": "stdout",
     "output_type": "stream",
     "text": [
      "root\n",
      " |-- userId: string (nullable = true)\n",
      " |-- About: long (nullable = true)\n",
      " |-- Add Friend: long (nullable = true)\n",
      " |-- Add to Playlist: long (nullable = true)\n",
      " |-- Downgrade: long (nullable = true)\n",
      " |-- Help: long (nullable = true)\n",
      " |-- Home: long (nullable = true)\n",
      " |-- Logout: long (nullable = true)\n",
      " |-- NextSong: long (nullable = true)\n",
      " |-- Roll Advert: long (nullable = true)\n",
      " |-- Save Settings: long (nullable = true)\n",
      " |-- Settings: long (nullable = true)\n",
      " |-- Submit Downgrade: long (nullable = true)\n",
      " |-- Submit Upgrade: long (nullable = true)\n",
      " |-- Thumbs Down: long (nullable = true)\n",
      " |-- Thumbs Up: long (nullable = true)\n",
      " |-- Upgrade: long (nullable = true)\n",
      " |-- gender_bin: integer (nullable = false)\n",
      " |-- level_bin: integer (nullable = false)\n",
      " |-- avg_page_per_session: double (nullable = true)\n",
      " |-- label: integer (nullable = false)\n",
      " |-- features: vector (nullable = true)\n",
      " |-- scaledFeatures: vector (nullable = true)\n",
      "\n"
     ]
    }
   ],
   "source": [
    "## Create Pipeline\n",
    "pipeline = Pipeline(stages = [assembler, scaler])\n",
    "pipelineModel = pipeline.fit(feature_df)\n",
    "feature_df = pipelineModel.transform(feature_df)\n",
    "feature_df.printSchema()"
   ]
  },
  {
   "cell_type": "code",
   "execution_count": 42,
   "metadata": {},
   "outputs": [
    {
     "name": "stdout",
     "output_type": "stream",
     "text": [
      "Training Dataset Count: 179\n",
      "Test Dataset Count: 46\n"
     ]
    }
   ],
   "source": [
    "## Split Training and Test sets\n",
    "train, test = feature_df.randomSplit([0.8, 0.2], seed = 42)\n",
    "print(\"Training Dataset Count: \" + str(train.count()))\n",
    "print(\"Test Dataset Count: \" + str(test.count()))"
   ]
  },
  {
   "cell_type": "code",
   "execution_count": 43,
   "metadata": {},
   "outputs": [],
   "source": [
    "def display_coefficients(model):\n",
    "    '''\n",
    "    Displays coeeficients plot if available in the model\n",
    "    '''\n",
    "    beta = np.sort(model.coefficients)\n",
    "    plt.plot(beta)\n",
    "    plt.ylabel('Beta Coefficients')\n",
    "    plt.show()\n",
    "    \n",
    "def display_ROC(model):\n",
    "    '''\n",
    "    Displays ROC curve for the model\n",
    "    '''\n",
    "    try:\n",
    "        trainingSummary = model.summary\n",
    "    except:\n",
    "        trainingSummary = model.stages[-1].summary\n",
    "    roc = trainingSummary.roc.toPandas()\n",
    "    plt.plot(roc['FPR'],roc['TPR'])\n",
    "    plt.ylabel('False Positive Rate')\n",
    "    plt.xlabel('True Positive Rate')\n",
    "    plt.title('ROC Curve')\n",
    "    plt.show()\n",
    "    print('Training set areaUnderROC: ' + str(trainingSummary.areaUnderROC))\n",
    "\n",
    "def display_precision_recall(model):\n",
    "    '''\n",
    "    Displays precision and recall plot\n",
    "    '''\n",
    "    try:\n",
    "        trainingSummary = model.summary\n",
    "    except:\n",
    "        trainingSummary = model.stages[-1].summary\n",
    "    pr = trainingSummary.pr.toPandas()\n",
    "    plt.plot(pr['recall'],pr['precision'])\n",
    "    plt.ylabel('Precision')\n",
    "    plt.xlabel('Recall')\n",
    "    plt.show()\n",
    "    \n",
    "def display_accuracy_ROC(model, alg):\n",
    "    '''\n",
    "    Displays the accuracy rate and ROC value\n",
    "    '''\n",
    "    predictions = model.transform(test)\n",
    "    tp = predictions.filter(predictions.label == predictions.prediction).count()\n",
    "    total = float(predictions.count())\n",
    "    accuracy = tp / total\n",
    "    print(alg)\n",
    "    print('Accuracy: Predicted {} out of {} ({})'.format(tp, total, accuracy))\n",
    "    evaluator = BinaryClassificationEvaluator()\n",
    "    print('Test Area Under ROC: ', evaluator.evaluate(predictions))\n",
    "    \n",
    "    return evaluator\n",
    "\n",
    "def ExtractFeatureImp(featureImp, dataset, featuresCol):\n",
    "    '''\n",
    "    Matches feature importances attributes from the model\n",
    "    to the feature names\n",
    "    '''\n",
    "    list_extract = []\n",
    "    for i in dataset.schema[featuresCol].metadata[\"ml_attr\"][\"attrs\"]:\n",
    "        list_extract = list_extract + dataset.schema[featuresCol].metadata[\"ml_attr\"][\"attrs\"][i]\n",
    "    varlist = pd.DataFrame(list_extract)\n",
    "    varlist['score'] = varlist['idx'].apply(lambda x: featureImp[x])\n",
    "    return(varlist.sort_values('score', ascending = False))"
   ]
  },
  {
   "cell_type": "markdown",
   "metadata": {},
   "source": [
    "#### Logistic Regression"
   ]
  },
  {
   "cell_type": "code",
   "execution_count": 44,
   "metadata": {},
   "outputs": [
    {
     "name": "stdout",
     "output_type": "stream",
     "text": [
      "Logistic Regression\n",
      "Accuracy: Predicted 36 out of 46.0 (0.782608695652174)\n",
      "Test Area Under ROC:  0.6786786786786786\n"
     ]
    }
   ],
   "source": [
    "lr = LogisticRegression(featuresCol = 'scaledFeatures', labelCol = 'label', maxIter=10)\n",
    "lrModel = lr.fit(train)\n",
    "\n",
    "lr_evaluator = display_accuracy_ROC(lrModel, 'Logistic Regression')"
   ]
  },
  {
   "cell_type": "code",
   "execution_count": 45,
   "metadata": {
    "scrolled": true
   },
   "outputs": [
    {
     "name": "stdout",
     "output_type": "stream",
     "text": [
      "aggregationDepth: suggested depth for treeAggregate (>= 2) (default: 2)\n",
      "elasticNetParam: the ElasticNet mixing parameter, in range [0, 1]. For alpha = 0, the penalty is an L2 penalty. For alpha = 1, it is an L1 penalty (default: 0.0)\n",
      "family: The name of family which is a description of the label distribution to be used in the model. Supported options: auto, binomial, multinomial. (default: auto)\n",
      "featuresCol: features column name (default: features, current: scaledFeatures)\n",
      "fitIntercept: whether to fit an intercept term (default: True)\n",
      "labelCol: label column name (default: label, current: label)\n",
      "lowerBoundsOnCoefficients: The lower bounds on coefficients if fitting under bound constrained optimization. (undefined)\n",
      "lowerBoundsOnIntercepts: The lower bounds on intercepts if fitting under bound constrained optimization. (undefined)\n",
      "maxIter: maximum number of iterations (>= 0) (default: 100, current: 10)\n",
      "predictionCol: prediction column name (default: prediction)\n",
      "probabilityCol: Column name for predicted class conditional probabilities. Note: Not all models output well-calibrated probability estimates! These probabilities should be treated as confidences, not precise probabilities (default: probability)\n",
      "rawPredictionCol: raw prediction (a.k.a. confidence) column name (default: rawPrediction)\n",
      "regParam: regularization parameter (>= 0) (default: 0.0)\n",
      "standardization: whether to standardize the training features before fitting the model (default: True)\n",
      "threshold: threshold in binary classification prediction, in range [0, 1] (default: 0.5)\n",
      "thresholds: Thresholds in multi-class classification to adjust the probability of predicting each class. Array must have length equal to the number of classes, with values > 0 excepting that at most one value may be 0. The class with largest value p/t is predicted, where p is the original probability of that class and t is the class's threshold (undefined)\n",
      "tol: the convergence tolerance for iterative algorithms (>= 0) (default: 1e-06)\n",
      "upperBoundsOnCoefficients: The upper bounds on coefficients if fitting under bound constrained optimization. (undefined)\n",
      "upperBoundsOnIntercepts: The upper bounds on intercepts if fitting under bound constrained optimization. (undefined)\n",
      "weightCol: weight column name. If this is not set or empty, we treat all instance weights as 1.0 (undefined)\n"
     ]
    }
   ],
   "source": [
    "print(lrModel.explainParams())"
   ]
  },
  {
   "cell_type": "markdown",
   "metadata": {},
   "source": [
    "#### Decision Tree"
   ]
  },
  {
   "cell_type": "code",
   "execution_count": 46,
   "metadata": {},
   "outputs": [
    {
     "name": "stdout",
     "output_type": "stream",
     "text": [
      "Decision Tree\n",
      "Accuracy: Predicted 36 out of 46.0 (0.782608695652174)\n",
      "Test Area Under ROC:  0.5405405405405406\n"
     ]
    },
    {
     "data": {
      "text/plain": [
       "BinaryClassificationEvaluator_6b8f3a83ea4f"
      ]
     },
     "execution_count": 46,
     "metadata": {},
     "output_type": "execute_result"
    }
   ],
   "source": [
    "dt = DecisionTreeClassifier(featuresCol = 'scaledFeatures', labelCol = 'label', maxDepth = 3)\n",
    "dtModel = dt.fit(train)\n",
    "\n",
    "display_accuracy_ROC(dtModel, 'Decision Tree')"
   ]
  },
  {
   "cell_type": "code",
   "execution_count": 47,
   "metadata": {},
   "outputs": [
    {
     "name": "stdout",
     "output_type": "stream",
     "text": [
      "['__class__', '__del__', '__delattr__', '__dict__', '__dir__', '__doc__', '__eq__', '__format__', '__ge__', '__getattribute__', '__gt__', '__hash__', '__init__', '__init_subclass__', '__le__', '__lt__', '__metaclass__', '__module__', '__ne__', '__new__', '__reduce__', '__reduce_ex__', '__repr__', '__setattr__', '__sizeof__', '__str__', '__subclasshook__', '__weakref__', '_call_java', '_clear', '_copyValues', '_copy_params', '_create_from_java_class', '_create_params_from_java', '_defaultParamMap', '_dummy', '_empty_java_param_map', '_from_java', '_java_obj', '_make_java_param_pair', '_new_java_array', '_new_java_obj', '_paramMap', '_params', '_randomUID', '_resetUid', '_resolveParam', '_set', '_setDefault', '_shouldOwn', '_to_java', '_transfer_param_map_from_java', '_transfer_param_map_to_java', '_transfer_params_from_java', '_transfer_params_to_java', '_transform', 'cacheNodeIds', 'checkpointInterval', 'copy', 'depth', 'explainParam', 'explainParams', 'extractParamMap', 'featureImportances', 'featuresCol', 'getOrDefault', 'getParam', 'hasDefault', 'hasParam', 'impurity', 'isDefined', 'isSet', 'labelCol', 'load', 'maxBins', 'maxDepth', 'maxMemoryInMB', 'minInfoGain', 'minInstancesPerNode', 'numClasses', 'numFeatures', 'numNodes', 'params', 'predictionCol', 'probabilityCol', 'rawPredictionCol', 'read', 'save', 'seed', 'set', 'thresholds', 'toDebugString', 'transform', 'uid', 'write']\n"
     ]
    }
   ],
   "source": [
    "print(dir(dtModel))"
   ]
  },
  {
   "cell_type": "markdown",
   "metadata": {},
   "source": [
    "#### Random Forest"
   ]
  },
  {
   "cell_type": "code",
   "execution_count": 48,
   "metadata": {},
   "outputs": [
    {
     "name": "stdout",
     "output_type": "stream",
     "text": [
      "Random Forest\n",
      "Accuracy: Predicted 34 out of 46.0 (0.7391304347826086)\n",
      "Test Area Under ROC:  0.5045045045045045\n"
     ]
    }
   ],
   "source": [
    "rf = RandomForestClassifier(featuresCol = 'features', labelCol = 'label')\n",
    "rfModel = rf.fit(train)\n",
    "\n",
    "rf_evaluator = display_accuracy_ROC(rfModel, 'Random Forest')"
   ]
  },
  {
   "cell_type": "code",
   "execution_count": 49,
   "metadata": {},
   "outputs": [
    {
     "name": "stdout",
     "output_type": "stream",
     "text": [
      "['__class__', '__del__', '__delattr__', '__dict__', '__dir__', '__doc__', '__eq__', '__format__', '__ge__', '__getattribute__', '__gt__', '__hash__', '__init__', '__init_subclass__', '__le__', '__lt__', '__metaclass__', '__module__', '__ne__', '__new__', '__reduce__', '__reduce_ex__', '__repr__', '__setattr__', '__sizeof__', '__str__', '__subclasshook__', '__weakref__', '_call_java', '_clear', '_copyValues', '_copy_params', '_create_from_java_class', '_create_params_from_java', '_defaultParamMap', '_dummy', '_empty_java_param_map', '_from_java', '_java_obj', '_make_java_param_pair', '_new_java_array', '_new_java_obj', '_paramMap', '_params', '_randomUID', '_resetUid', '_resolveParam', '_set', '_setDefault', '_shouldOwn', '_to_java', '_transfer_param_map_from_java', '_transfer_param_map_to_java', '_transfer_params_from_java', '_transfer_params_to_java', '_transform', 'cacheNodeIds', 'checkpointInterval', 'copy', 'explainParam', 'explainParams', 'extractParamMap', 'featureImportances', 'featureSubsetStrategy', 'featuresCol', 'getNumTrees', 'getOrDefault', 'getParam', 'hasDefault', 'hasParam', 'impurity', 'isDefined', 'isSet', 'labelCol', 'load', 'maxBins', 'maxDepth', 'maxMemoryInMB', 'minInfoGain', 'minInstancesPerNode', 'numClasses', 'numFeatures', 'numTrees', 'params', 'predictionCol', 'probabilityCol', 'rawPredictionCol', 'read', 'save', 'seed', 'set', 'subsamplingRate', 'thresholds', 'toDebugString', 'totalNumNodes', 'transform', 'treeWeights', 'trees', 'uid', 'write']\n"
     ]
    }
   ],
   "source": [
    "print(dir(rfModel))"
   ]
  },
  {
   "cell_type": "code",
   "execution_count": 51,
   "metadata": {
    "scrolled": true
   },
   "outputs": [
    {
     "name": "stdout",
     "output_type": "stream",
     "text": [
      "cacheNodeIds: If false, the algorithm will pass trees to executors to match instances with nodes. If true, the algorithm will cache node IDs for each instance. Caching can speed up training of deeper trees. (default: False)\n",
      "checkpointInterval: set checkpoint interval (>= 1) or disable checkpoint (-1). E.g. 10 means that the cache will get checkpointed every 10 iterations. Note: this setting will be ignored if the checkpoint directory is not set in the SparkContext (default: 10)\n",
      "featureSubsetStrategy: The number of features to consider for splits at each tree node. Supported options: auto, all, onethird, sqrt, log2, (0.0-1.0], [1-n]. (default: auto)\n",
      "featuresCol: features column name (default: features, current: features)\n",
      "impurity: Criterion used for information gain calculation (case-insensitive). Supported options: entropy, gini (default: gini)\n",
      "labelCol: label column name (default: label, current: label)\n",
      "maxBins: Max number of bins for discretizing continuous features.  Must be >=2 and >= number of categories for any categorical feature. (default: 32)\n",
      "maxDepth: Maximum depth of the tree. (>= 0) E.g., depth 0 means 1 leaf node; depth 1 means 1 internal node + 2 leaf nodes. (default: 5)\n",
      "maxMemoryInMB: Maximum memory in MB allocated to histogram aggregation. (default: 256)\n",
      "minInfoGain: Minimum information gain for a split to be considered at a tree node. (default: 0.0)\n",
      "minInstancesPerNode: Minimum number of instances each child must have after split.  If a split causes the left or right child to have fewer than minInstancesPerNode, the split will be discarded as invalid. Should be >= 1. (default: 1)\n",
      "numTrees: Number of trees to train (>= 1) (default: 20)\n",
      "predictionCol: prediction column name (default: prediction)\n",
      "probabilityCol: Column name for predicted class conditional probabilities. Note: Not all models output well-calibrated probability estimates! These probabilities should be treated as confidences, not precise probabilities (default: probability)\n",
      "rawPredictionCol: raw prediction (a.k.a. confidence) column name (default: rawPrediction)\n",
      "seed: random seed (default: -4401530199681351885)\n",
      "subsamplingRate: Fraction of the training data used for learning each decision tree, in range (0, 1]. (default: 1.0)\n",
      "thresholds: Thresholds in multi-class classification to adjust the probability of predicting each class. Array must have length equal to the number of classes, with values > 0 excepting that at most one value may be 0. The class with largest value p/t is predicted, where p is the original probability of that class and t is the class's threshold (undefined)\n"
     ]
    }
   ],
   "source": [
    "print(rfModel.explainParams())"
   ]
  },
  {
   "cell_type": "markdown",
   "metadata": {},
   "source": [
    "#### Gradient-Boosted Tree Classifier"
   ]
  },
  {
   "cell_type": "code",
   "execution_count": 52,
   "metadata": {},
   "outputs": [
    {
     "name": "stdout",
     "output_type": "stream",
     "text": [
      "Gradient-Boosted Tree Classifier\n",
      "Accuracy: Predicted 29 out of 46.0 (0.6304347826086957)\n",
      "Test Area Under ROC:  0.45945945945945943\n"
     ]
    },
    {
     "data": {
      "text/plain": [
       "BinaryClassificationEvaluator_fe7c64c5ef20"
      ]
     },
     "execution_count": 52,
     "metadata": {},
     "output_type": "execute_result"
    }
   ],
   "source": [
    "gbt = GBTClassifier(maxIter=10)\n",
    "gbtModel = gbt.fit(train)\n",
    "\n",
    "display_accuracy_ROC(gbtModel, 'Gradient-Boosted Tree Classifier')"
   ]
  },
  {
   "cell_type": "code",
   "execution_count": 53,
   "metadata": {
    "scrolled": true
   },
   "outputs": [
    {
     "name": "stdout",
     "output_type": "stream",
     "text": [
      "['__add__', '__class__', '__contains__', '__delattr__', '__dir__', '__doc__', '__eq__', '__format__', '__ge__', '__getattribute__', '__getitem__', '__getnewargs__', '__gt__', '__hash__', '__init__', '__init_subclass__', '__iter__', '__le__', '__len__', '__lt__', '__mod__', '__mul__', '__ne__', '__new__', '__reduce__', '__reduce_ex__', '__repr__', '__rmod__', '__rmul__', '__setattr__', '__sizeof__', '__str__', '__subclasshook__', 'capitalize', 'casefold', 'center', 'count', 'encode', 'endswith', 'expandtabs', 'find', 'format', 'format_map', 'index', 'isalnum', 'isalpha', 'isdecimal', 'isdigit', 'isidentifier', 'islower', 'isnumeric', 'isprintable', 'isspace', 'istitle', 'isupper', 'join', 'ljust', 'lower', 'lstrip', 'maketrans', 'partition', 'replace', 'rfind', 'rindex', 'rjust', 'rpartition', 'rsplit', 'rstrip', 'split', 'splitlines', 'startswith', 'strip', 'swapcase', 'title', 'translate', 'upper', 'zfill']\n"
     ]
    }
   ],
   "source": [
    "print(dir(gbtModel.explainParams()))"
   ]
  },
  {
   "cell_type": "markdown",
   "metadata": {},
   "source": [
    "#### Linear SVC"
   ]
  },
  {
   "cell_type": "code",
   "execution_count": 54,
   "metadata": {},
   "outputs": [
    {
     "name": "stdout",
     "output_type": "stream",
     "text": [
      "Linear SVC\n",
      "Accuracy: Predicted 37 out of 46.0 (0.8043478260869565)\n",
      "Test Area Under ROC:  0.5975975975975977\n"
     ]
    }
   ],
   "source": [
    "lsvc = LinearSVC(maxIter=10, regParam=0.1)\n",
    "lsvcModel = lsvc.fit(train)\n",
    "\n",
    "lsvc_evaluator = display_accuracy_ROC(lsvcModel, 'Linear SVC')"
   ]
  },
  {
   "cell_type": "code",
   "execution_count": 55,
   "metadata": {},
   "outputs": [
    {
     "name": "stdout",
     "output_type": "stream",
     "text": [
      "aggregationDepth: suggested depth for treeAggregate (>= 2) (default: 2)\n",
      "featuresCol: features column name (default: features)\n",
      "fitIntercept: whether to fit an intercept term (default: True)\n",
      "labelCol: label column name (default: label)\n",
      "maxIter: maximum number of iterations (>= 0) (default: 100, current: 10)\n",
      "predictionCol: prediction column name (default: prediction)\n",
      "rawPredictionCol: raw prediction (a.k.a. confidence) column name (default: rawPrediction)\n",
      "regParam: regularization parameter (>= 0) (default: 0.0, current: 0.1)\n",
      "standardization: whether to standardize the training features before fitting the model (default: True)\n",
      "threshold: threshold in binary classification prediction applied to rawPrediction (default: 0.0)\n",
      "tol: the convergence tolerance for iterative algorithms (>= 0) (default: 1e-06)\n",
      "weightCol: weight column name. If this is not set or empty, we treat all instance weights as 1.0 (undefined)\n"
     ]
    }
   ],
   "source": [
    "print(lsvcModel.explainParams())"
   ]
  },
  {
   "cell_type": "markdown",
   "metadata": {},
   "source": [
    "#### Tune the best model"
   ]
  },
  {
   "cell_type": "code",
   "execution_count": 60,
   "metadata": {},
   "outputs": [
    {
     "data": {
      "text/plain": [
       "0.5945945945945946"
      ]
     },
     "execution_count": 60,
     "metadata": {},
     "output_type": "execute_result"
    }
   ],
   "source": [
    "## LinearSVC tuning\n",
    "paramGrid = ParamGridBuilder()\\\n",
    "            .addGrid(lsvcModel.regParam,[0.02, 0.08])\\\n",
    "            .addGrid(lsvcModel.threshold,[0.3,0.6])\\\n",
    "            .build()\n",
    "\n",
    "cv = CrossValidator(estimator=lsvc, estimatorParamMaps=paramGrid, evaluator=lsvc_evaluator, numFolds=5)\n",
    "cvModel = cv.fit(train)\n",
    "predictions = cvModel.transform(test)\n",
    "lsvc_evaluator.evaluate(predictions)\n",
    "\n",
    "# Accuracy: Predicted 37 out of 46.0 (0.8043478260869565)"
   ]
  },
  {
   "cell_type": "code",
   "execution_count": 61,
   "metadata": {},
   "outputs": [
    {
     "name": "stdout",
     "output_type": "stream",
     "text": [
      "Accuracy: Predicted 37 out of 46.0 (0.8043478260869565)\n"
     ]
    }
   ],
   "source": [
    "## result of tuned model\n",
    "## Logistic Regression Model\n",
    "tp = predictions.filter(predictions.label == predictions.prediction).count()\n",
    "total = float(predictions.count())\n",
    "accuracy = tp / total\n",
    "print('Accuracy: Predicted {} out of {} ({})'.format(tp, total, accuracy))"
   ]
  },
  {
   "cell_type": "markdown",
   "metadata": {},
   "source": [
    "# Final Steps\n",
    "Clean up your code, adding comments and renaming variables to make the code easier to read and maintain. Refer to the Spark Project Overview page and Data Scientist Capstone Project Rubric to make sure you are including all components of the capstone project and meet all expectations. Remember, this includes thorough documentation in a README file in a Github repository, as well as a web app or blog post."
   ]
  },
  {
   "cell_type": "code",
   "execution_count": null,
   "metadata": {},
   "outputs": [],
   "source": []
  }
 ],
 "metadata": {
  "kernelspec": {
   "display_name": "Python 3",
   "language": "python",
   "name": "python3"
  },
  "language_info": {
   "codemirror_mode": {
    "name": "ipython",
    "version": 3
   },
   "file_extension": ".py",
   "mimetype": "text/x-python",
   "name": "python",
   "nbconvert_exporter": "python",
   "pygments_lexer": "ipython3",
   "version": "3.6.3"
  }
 },
 "nbformat": 4,
 "nbformat_minor": 2
}
